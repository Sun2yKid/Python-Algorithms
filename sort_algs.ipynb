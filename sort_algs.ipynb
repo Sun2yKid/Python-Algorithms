{
 "cells": [
  {
   "cell_type": "markdown",
   "metadata": {},
   "source": [
    "## 冒泡排序（Bubble Sort）"
   ]
  },
  {
   "cell_type": "code",
   "execution_count": 1,
   "metadata": {},
   "outputs": [
    {
     "data": {
      "text/plain": [
       "[568, 359, 361, 220, 414, 84, 289, 550, 349, 429]"
      ]
     },
     "execution_count": 1,
     "metadata": {},
     "output_type": "execute_result"
    }
   ],
   "source": [
    "import random\n",
    "random.seed(333)\n",
    "l = random.sample(range(1000), k=10)\n",
    "l"
   ]
  },
  {
   "cell_type": "code",
   "execution_count": 2,
   "metadata": {},
   "outputs": [],
   "source": [
    "def bubble_sort(arr):\n",
    "    for i in range(1, len(arr)):\n",
    "        for j in range(len(arr)-i):\n",
    "            if arr[j+1] < arr[j]:\n",
    "                arr[j], arr[j+1] = arr[j+1], arr[j] \n",
    "            "
   ]
  },
  {
   "cell_type": "code",
   "execution_count": 3,
   "metadata": {},
   "outputs": [
    {
     "data": {
      "text/plain": [
       "[84, 220, 289, 349, 359, 361, 414, 429, 550, 568]"
      ]
     },
     "execution_count": 3,
     "metadata": {},
     "output_type": "execute_result"
    }
   ],
   "source": [
    "bubble_sort(l)\n",
    "l"
   ]
  },
  {
   "cell_type": "markdown",
   "metadata": {},
   "source": [
    "## 选择排序"
   ]
  },
  {
   "cell_type": "code",
   "execution_count": 4,
   "metadata": {},
   "outputs": [],
   "source": [
    "def selection_sort(arr):\n",
    "    print('source:', arr)\n",
    "    for i in range(len(arr)-1):\n",
    "        lowest_index = i\n",
    "        for j in range(i+1, len(arr)):\n",
    "            if arr[lowest_index] > arr[j]:\n",
    "                lowest_index = j\n",
    "        if not i == lowest_index:\n",
    "            arr[i], arr[lowest_index] = arr[lowest_index], arr[i]"
   ]
  },
  {
   "cell_type": "code",
   "execution_count": 5,
   "metadata": {},
   "outputs": [
    {
     "name": "stdout",
     "output_type": "stream",
     "text": [
      "source: [568, 359, 361, 220, 414, 84, 289, 550, 349, 429]\n"
     ]
    },
    {
     "data": {
      "text/plain": [
       "[84, 220, 289, 349, 359, 361, 414, 429, 550, 568]"
      ]
     },
     "execution_count": 5,
     "metadata": {},
     "output_type": "execute_result"
    }
   ],
   "source": [
    "random.seed(333)\n",
    "l = random.sample(range(1000), k=10)\n",
    "selection_sort(l)\n",
    "l"
   ]
  },
  {
   "cell_type": "markdown",
   "metadata": {},
   "source": [
    "## 插入排序"
   ]
  },
  {
   "cell_type": "code",
   "execution_count": 6,
   "metadata": {},
   "outputs": [],
   "source": [
    "def insert_sort(arr):\n",
    "    print('source:', arr)\n",
    "    for i in range(1, len(arr)):\n",
    "        for j in range(i):\n",
    "            if arr[i] < arr[j]:\n",
    "                arr.insert(j, arr.pop(i))\n",
    "    print('result:', arr)\n",
    "    "
   ]
  },
  {
   "cell_type": "code",
   "execution_count": 7,
   "metadata": {},
   "outputs": [
    {
     "data": {
      "text/plain": [
       "[568, 359, 361, 220, 414, 84, 289, 550, 349, 429]"
      ]
     },
     "execution_count": 7,
     "metadata": {},
     "output_type": "execute_result"
    }
   ],
   "source": [
    "random.seed(333)\n",
    "l = random.sample(range(1000), k=10)\n",
    "l"
   ]
  },
  {
   "cell_type": "code",
   "execution_count": 8,
   "metadata": {},
   "outputs": [
    {
     "name": "stdout",
     "output_type": "stream",
     "text": [
      "source: [568, 359, 361, 220, 414, 84, 289, 550, 349, 429]\n",
      "result: [84, 220, 289, 349, 359, 361, 414, 429, 550, 568]\n"
     ]
    }
   ],
   "source": [
    "insert_sort(l)"
   ]
  },
  {
   "cell_type": "markdown",
   "metadata": {},
   "source": [
    "## 归并排序 (Merge Sort)"
   ]
  },
  {
   "cell_type": "code",
   "execution_count": 9,
   "metadata": {},
   "outputs": [],
   "source": [
    "def merge_sort(arr):\n",
    "    if len(arr) <= 1:\n",
    "        return arr\n",
    "    middle = len(arr)//2\n",
    "    left = merge_sort(arr[:middle])\n",
    "    right = merge_sort( arr[middle:])\n",
    "    return merge_sorted_list(left, right)\n",
    "\n",
    "def merge_sorted_list(left, right):\n",
    "    i, j = 0, 0\n",
    "    result = []\n",
    "    while i < len(left) and j < len(right):\n",
    "        if left[i] <= right[j]:\n",
    "            result.append(left[i])\n",
    "            i += 1\n",
    "        else:\n",
    "            result.append(right[j])\n",
    "            j += 1\n",
    "    return result + left[i:] + right[j:]"
   ]
  },
  {
   "cell_type": "code",
   "execution_count": 10,
   "metadata": {},
   "outputs": [
    {
     "data": {
      "text/plain": [
       "[84, 220, 289, 349, 359, 361, 414, 429, 550, 568]"
      ]
     },
     "execution_count": 10,
     "metadata": {},
     "output_type": "execute_result"
    }
   ],
   "source": [
    "random.seed(333)\n",
    "l = random.sample(range(1000), k=10)\n",
    "merge_sort(l)"
   ]
  },
  {
   "cell_type": "markdown",
   "metadata": {},
   "source": [
    "## 快速排序 (Quick Sort)"
   ]
  },
  {
   "cell_type": "code",
   "execution_count": 11,
   "metadata": {},
   "outputs": [],
   "source": [
    "def quick_sort(arr):\n",
    "    if len(arr) <= 1:\n",
    "        return arr\n",
    "    pivot = arr[0]  # random\n",
    "    less, greater = [], []\n",
    "    for item in arr[1:]:\n",
    "        if item <= pivot:\n",
    "            less.append(item)\n",
    "        else:\n",
    "            greater.append(item)\n",
    "    return quick_sort(less) + [pivot] + quick_sort(greater)"
   ]
  },
  {
   "cell_type": "code",
   "execution_count": 12,
   "metadata": {},
   "outputs": [
    {
     "name": "stdout",
     "output_type": "stream",
     "text": [
      "[568, 359, 361, 220, 414, 84, 289, 550, 349, 429]\n"
     ]
    },
    {
     "data": {
      "text/plain": [
       "[84, 220, 289, 349, 359, 361, 414, 429, 550, 568]"
      ]
     },
     "execution_count": 12,
     "metadata": {},
     "output_type": "execute_result"
    }
   ],
   "source": [
    "random.seed(333)\n",
    "l = random.sample(range(1000), k=10)\n",
    "print(l)\n",
    "quick_sort(l)"
   ]
  },
  {
   "cell_type": "code",
   "execution_count": null,
   "metadata": {},
   "outputs": [],
   "source": []
  },
  {
   "cell_type": "code",
   "execution_count": null,
   "metadata": {},
   "outputs": [],
   "source": []
  }
 ],
 "metadata": {
  "kernelspec": {
   "display_name": "Python 3",
   "language": "python",
   "name": "python3"
  },
  "language_info": {
   "codemirror_mode": {
    "name": "ipython",
    "version": 3
   },
   "file_extension": ".py",
   "mimetype": "text/x-python",
   "name": "python",
   "nbconvert_exporter": "python",
   "pygments_lexer": "ipython3",
   "version": "3.6.4"
  }
 },
 "nbformat": 4,
 "nbformat_minor": 4
}
