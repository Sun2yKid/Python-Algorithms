{
 "cells": [
  {
   "cell_type": "markdown",
   "metadata": {},
   "source": [
    "## 题目: 顺时针打印矩阵\n",
    "输入一个矩阵，按照从外向里以顺时针的顺序一次打印出每一个数字。\n",
    "例如：如下矩阵\n",
    "```\n",
    "1  2  3  4\n",
    "5  6  7  8\n",
    "9  10 11 12\n",
    "13 14 15 16\n",
    "```\n",
    "则依次打印出数字1，2， 3，4，8，12，16，15，14，13，9，5，6，7，11，10\n",
    "\n",
    "Leetcode: 54. Spiral Matrix\n",
    "https://leetcode.com/problems/spiral-matrix/"
   ]
  },
  {
   "cell_type": "code",
   "execution_count": null,
   "metadata": {},
   "outputs": [],
   "source": []
  }
 ],
 "metadata": {
  "kernelspec": {
   "display_name": "Python 3",
   "language": "python",
   "name": "python3"
  },
  "language_info": {
   "codemirror_mode": {
    "name": "ipython",
    "version": 3
   },
   "file_extension": ".py",
   "mimetype": "text/x-python",
   "name": "python",
   "nbconvert_exporter": "python",
   "pygments_lexer": "ipython3",
   "version": "3.6.4"
  }
 },
 "nbformat": 4,
 "nbformat_minor": 4
}
