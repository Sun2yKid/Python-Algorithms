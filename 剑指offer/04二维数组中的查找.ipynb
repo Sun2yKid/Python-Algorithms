{
 "cells": [
  {
   "cell_type": "markdown",
   "metadata": {},
   "source": [
    "## 题目\n",
    "在一个二维数组中，每一行都按照从左到右递增的顺序排序，每一列都按照从上到下递增的顺序排序。请完成一个函数，输入这样的一个二维数组和一个整数，判断数组中是否含有该整数。"
   ]
  },
  {
   "cell_type": "code",
   "execution_count": 7,
   "metadata": {},
   "outputs": [],
   "source": [
    "def is_contain(array, num):\n",
    "    # 0. 边界判断，array是否符合要求的数组, 以及是否为空\n",
    "    pass\n",
    "    # 1. 从右上角遍历，以达到过滤掉行列的目的\n",
    "    right_top = [0, len(array[0])-1]\n",
    "    r, c = right_top\n",
    "    while array[r][c] != num:\n",
    "        if array[r][c] > num:\n",
    "            c -= 1\n",
    "            if c <= 0:\n",
    "                return False\n",
    "        elif array[r][c] < num:\n",
    "            r += 1\n",
    "            if r >= len(array[0]):\n",
    "                return False\n",
    "    return r, c, array[r][c]\n",
    "            "
   ]
  },
  {
   "cell_type": "code",
   "execution_count": 8,
   "metadata": {},
   "outputs": [
    {
     "data": {
      "text/plain": [
       "(2, 1, 7)"
      ]
     },
     "execution_count": 8,
     "metadata": {},
     "output_type": "execute_result"
    }
   ],
   "source": [
    "arr = [\n",
    "    [1, 2, 8, 9],\n",
    "    [2, 4, 9, 12],\n",
    "    [4, 7, 10, 13],\n",
    "    [6, 8, 11, 15]\n",
    "]\n",
    "num1 = 7\n",
    "num2 = 5\n",
    "is_contain(arr, num1)"
   ]
  },
  {
   "cell_type": "code",
   "execution_count": 9,
   "metadata": {},
   "outputs": [
    {
     "data": {
      "text/plain": [
       "False"
      ]
     },
     "execution_count": 9,
     "metadata": {},
     "output_type": "execute_result"
    }
   ],
   "source": [
    "is_contain(arr, num2)"
   ]
  },
  {
   "cell_type": "markdown",
   "metadata": {},
   "source": [
    "## 思路\n",
    "通过分析简单具体的例子，找出普遍规律。\n",
    "> 剔除不满足条件的行、列，缩小查找范围。\n",
    "\n",
    "选取右上角或者左下角，而不能选左上角或右下角！\n"
   ]
  },
  {
   "cell_type": "code",
   "execution_count": null,
   "metadata": {},
   "outputs": [],
   "source": []
  }
 ],
 "metadata": {
  "kernelspec": {
   "display_name": "Python 3",
   "language": "python",
   "name": "python3"
  },
  "language_info": {
   "codemirror_mode": {
    "name": "ipython",
    "version": 3
   },
   "file_extension": ".py",
   "mimetype": "text/x-python",
   "name": "python",
   "nbconvert_exporter": "python",
   "pygments_lexer": "ipython3",
   "version": "3.6.4"
  }
 },
 "nbformat": 4,
 "nbformat_minor": 4
}
