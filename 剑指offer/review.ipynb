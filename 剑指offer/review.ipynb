{
 "cells": [
  {
   "cell_type": "code",
   "execution_count": 6,
   "metadata": {},
   "outputs": [],
   "source": [
    "# 09 两个栈实现队列\n",
    "class MyQueue:\n",
    "    \"\"\"use two stack to simulate queue\"\"\"\n",
    "    def __init__(self):\n",
    "        self.in_stack = []\n",
    "        self.out_stack = []\n",
    "        \n",
    "    def append(self, item):\n",
    "        return self.in_stack.append(item)\n",
    "        \n",
    "    def pop(self):\n",
    "        if not self.out_stack:\n",
    "            for _ in range(len(self.in_stack)):\n",
    "                self.out_stack.append(self.in_stack.pop())\n",
    "        if self.out_stack:\n",
    "            return self.out_stack.pop()\n",
    "        else:\n",
    "            print(\"Nothing to pop\")            "
   ]
  },
  {
   "cell_type": "code",
   "execution_count": 7,
   "metadata": {},
   "outputs": [
    {
     "data": {
      "text/plain": [
       "(<__main__.MyQueue at 0x18c020f0128>, 'use two stack to simulate queue')"
      ]
     },
     "execution_count": 7,
     "metadata": {},
     "output_type": "execute_result"
    }
   ],
   "source": [
    "que = MyQueue()\n",
    "que, que.__doc__"
   ]
  },
  {
   "cell_type": "code",
   "execution_count": 8,
   "metadata": {},
   "outputs": [
    {
     "data": {
      "text/plain": [
       "([0, 1, 2, 3, 4], [])"
      ]
     },
     "execution_count": 8,
     "metadata": {},
     "output_type": "execute_result"
    }
   ],
   "source": [
    "for i in range(5):\n",
    "    que.append(i)\n",
    "que.in_stack, que.out_stack"
   ]
  },
  {
   "cell_type": "code",
   "execution_count": 9,
   "metadata": {},
   "outputs": [
    {
     "data": {
      "text/plain": [
       "0"
      ]
     },
     "execution_count": 9,
     "metadata": {},
     "output_type": "execute_result"
    }
   ],
   "source": [
    "que.pop()"
   ]
  },
  {
   "cell_type": "code",
   "execution_count": 10,
   "metadata": {},
   "outputs": [
    {
     "data": {
      "text/plain": [
       "([], [4, 3, 2, 1])"
      ]
     },
     "execution_count": 10,
     "metadata": {},
     "output_type": "execute_result"
    }
   ],
   "source": [
    "que.in_stack, que.out_stack"
   ]
  },
  {
   "cell_type": "code",
   "execution_count": 11,
   "metadata": {},
   "outputs": [
    {
     "data": {
      "text/plain": [
       "([5], [4, 3, 2, 1])"
      ]
     },
     "execution_count": 11,
     "metadata": {},
     "output_type": "execute_result"
    }
   ],
   "source": [
    "que.append(5)\n",
    "que.in_stack, que.out_stack"
   ]
  },
  {
   "cell_type": "code",
   "execution_count": 13,
   "metadata": {},
   "outputs": [
    {
     "data": {
      "text/plain": [
       "1"
      ]
     },
     "execution_count": 13,
     "metadata": {},
     "output_type": "execute_result"
    }
   ],
   "source": [
    "que.pop()"
   ]
  },
  {
   "cell_type": "code",
   "execution_count": 14,
   "metadata": {},
   "outputs": [
    {
     "data": {
      "text/plain": [
       "2"
      ]
     },
     "execution_count": 14,
     "metadata": {},
     "output_type": "execute_result"
    }
   ],
   "source": [
    "que.pop()"
   ]
  },
  {
   "cell_type": "code",
   "execution_count": 15,
   "metadata": {},
   "outputs": [
    {
     "data": {
      "text/plain": [
       "3"
      ]
     },
     "execution_count": 15,
     "metadata": {},
     "output_type": "execute_result"
    }
   ],
   "source": [
    "que.pop()"
   ]
  },
  {
   "cell_type": "code",
   "execution_count": 16,
   "metadata": {},
   "outputs": [
    {
     "data": {
      "text/plain": [
       "4"
      ]
     },
     "execution_count": 16,
     "metadata": {},
     "output_type": "execute_result"
    }
   ],
   "source": [
    "que.pop()"
   ]
  },
  {
   "cell_type": "code",
   "execution_count": 17,
   "metadata": {},
   "outputs": [
    {
     "data": {
      "text/plain": [
       "5"
      ]
     },
     "execution_count": 17,
     "metadata": {},
     "output_type": "execute_result"
    }
   ],
   "source": [
    "que.pop()"
   ]
  },
  {
   "cell_type": "code",
   "execution_count": 18,
   "metadata": {},
   "outputs": [
    {
     "name": "stdout",
     "output_type": "stream",
     "text": [
      "Nothing to pop\n"
     ]
    }
   ],
   "source": [
    "que.pop()"
   ]
  },
  {
   "cell_type": "code",
   "execution_count": 19,
   "metadata": {},
   "outputs": [
    {
     "data": {
      "text/plain": [
       "1700841587632"
      ]
     },
     "execution_count": 19,
     "metadata": {},
     "output_type": "execute_result"
    }
   ],
   "source": [
    "## 测试字符串\n",
    "s = \"hello\"\n",
    "id(s)"
   ]
  },
  {
   "cell_type": "code",
   "execution_count": 22,
   "metadata": {},
   "outputs": [
    {
     "data": {
      "text/plain": [
       "(True, True, True)"
      ]
     },
     "execution_count": 22,
     "metadata": {},
     "output_type": "execute_result"
    }
   ],
   "source": [
    "a = \"hello\"\n",
    "a is s, id(a) == id(s), a==s   # a和s是完全相同的引用，且指向同一地址"
   ]
  },
  {
   "cell_type": "code",
   "execution_count": 23,
   "metadata": {},
   "outputs": [
    {
     "data": {
      "text/plain": [
       "'hello'"
      ]
     },
     "execution_count": 23,
     "metadata": {},
     "output_type": "execute_result"
    }
   ],
   "source": [
    "l = [\"hello\"]\n",
    "l[0]"
   ]
  },
  {
   "cell_type": "code",
   "execution_count": 25,
   "metadata": {},
   "outputs": [
    {
     "data": {
      "text/plain": [
       "(True, 1700841587632, True)"
      ]
     },
     "execution_count": 25,
     "metadata": {},
     "output_type": "execute_result"
    }
   ],
   "source": [
    "l[0] is a, id(l[0]), a == l[0]"
   ]
  },
  {
   "cell_type": "code",
   "execution_count": 27,
   "metadata": {},
   "outputs": [
    {
     "data": {
      "text/plain": [
       "1700841586848"
      ]
     },
     "execution_count": 27,
     "metadata": {},
     "output_type": "execute_result"
    }
   ],
   "source": [
    "l[0] = \"world\"\n",
    "id(l[0])"
   ]
  },
  {
   "cell_type": "code",
   "execution_count": 28,
   "metadata": {},
   "outputs": [
    {
     "data": {
      "text/plain": [
       "1700841586848"
      ]
     },
     "execution_count": 28,
     "metadata": {},
     "output_type": "execute_result"
    }
   ],
   "source": [
    "b = \"world\"\n",
    "id(b)"
   ]
  },
  {
   "cell_type": "code",
   "execution_count": 1,
   "metadata": {},
   "outputs": [],
   "source": [
    "# 4. 二维数组中的查找\n",
    "def find(arr, target):\n",
    "    if len(arr) <= 0 or len(arr[0]) <= 0:   # 空矩阵\n",
    "        return False\n",
    "    # 右上角索引\n",
    "    r, c = 0, len(arr[0])-1\n",
    "    while r < len(arr) and c >= 0:\n",
    "        if arr[r][c] == target:\n",
    "            return True\n",
    "        elif arr[r][c] > target:\n",
    "            c -= 1    # 删除该列\n",
    "        else:\n",
    "            r += 1    # 删除改行\n",
    "    return False"
   ]
  },
  {
   "cell_type": "code",
   "execution_count": 12,
   "metadata": {},
   "outputs": [],
   "source": [
    "# 链表\n",
    "class LinkedListNode:\n",
    "    def __init__(self, val):\n",
    "        self.val = val\n",
    "        self.next = None\n",
    "        \n",
    "    def __repr__(self):\n",
    "        result = [str(self.val)]\n",
    "        next = self.next\n",
    "        while next:\n",
    "            result.append(str(next.val))\n",
    "            next = next.next\n",
    "        return '->'.join(result) + '->NULL'"
   ]
  },
  {
   "cell_type": "code",
   "execution_count": 35,
   "metadata": {},
   "outputs": [],
   "source": [
    "l = LinkedListNode(1)"
   ]
  },
  {
   "cell_type": "code",
   "execution_count": 36,
   "metadata": {},
   "outputs": [
    {
     "data": {
      "text/plain": [
       "1->NULL"
      ]
     },
     "execution_count": 36,
     "metadata": {},
     "output_type": "execute_result"
    }
   ],
   "source": [
    "l"
   ]
  },
  {
   "cell_type": "code",
   "execution_count": 37,
   "metadata": {},
   "outputs": [],
   "source": [
    "l.next = LinkedListNode(2)"
   ]
  },
  {
   "cell_type": "code",
   "execution_count": 38,
   "metadata": {},
   "outputs": [
    {
     "data": {
      "text/plain": [
       "1->2->3->NULL"
      ]
     },
     "execution_count": 38,
     "metadata": {},
     "output_type": "execute_result"
    }
   ],
   "source": [
    "l.next.next = LinkedListNode(3)\n",
    "l"
   ]
  },
  {
   "cell_type": "code",
   "execution_count": 40,
   "metadata": {},
   "outputs": [],
   "source": [
    "# 6.翻转链表\n",
    "# 迭代的方法\n",
    "def reverse_linked_list(l):\n",
    "    pre, curr = None, l\n",
    "    print(curr)\n",
    "    while curr.next:\n",
    "        print(curr.next)\n",
    "        curr.next, curr, pre = pre, curr.next, curr\n",
    "    curr.next = pre\n",
    "    print('result', curr)  "
   ]
  },
  {
   "cell_type": "code",
   "execution_count": 41,
   "metadata": {},
   "outputs": [
    {
     "name": "stdout",
     "output_type": "stream",
     "text": [
      "1->2->3->NULL\n",
      "2->3->NULL\n",
      "3->NULL\n",
      "result 3->2->1->NULL\n"
     ]
    }
   ],
   "source": [
    "reverse_linked_list(l)"
   ]
  },
  {
   "cell_type": "code",
   "execution_count": 42,
   "metadata": {},
   "outputs": [
    {
     "data": {
      "text/plain": [
       "1->NULL"
      ]
     },
     "execution_count": 42,
     "metadata": {},
     "output_type": "execute_result"
    }
   ],
   "source": [
    "l"
   ]
  },
  {
   "cell_type": "code",
   "execution_count": 48,
   "metadata": {},
   "outputs": [],
   "source": [
    "# 递归的方法\n",
    "def reverse_linked_list2(l):\n",
    "    def recurse(pre, curr):\n",
    "        if curr is None:\n",
    "            return pre\n",
    "        else:\n",
    "            curr.next, pre, curr = pre, curr, curr.next\n",
    "            return recurse(pre, curr)\n",
    "    pre, curr = None, l\n",
    "    return recurse(pre, curr)"
   ]
  },
  {
   "cell_type": "code",
   "execution_count": 49,
   "metadata": {},
   "outputs": [
    {
     "data": {
      "text/plain": [
       "1->2->3->NULL"
      ]
     },
     "execution_count": 49,
     "metadata": {},
     "output_type": "execute_result"
    }
   ],
   "source": [
    "l = LinkedListNode(1)\n",
    "l.next = LinkedListNode(2)\n",
    "l.next.next = LinkedListNode(3)\n",
    "l"
   ]
  },
  {
   "cell_type": "code",
   "execution_count": 50,
   "metadata": {},
   "outputs": [
    {
     "data": {
      "text/plain": [
       "3->2->1->NULL"
      ]
     },
     "execution_count": 50,
     "metadata": {},
     "output_type": "execute_result"
    }
   ],
   "source": [
    "reverse_linked_list2(l)"
   ]
  },
  {
   "cell_type": "code",
   "execution_count": 60,
   "metadata": {},
   "outputs": [],
   "source": [
    "# 重建二叉树\n",
    "class TreeNode:\n",
    "    def __init__(self, val):\n",
    "        self.val = val\n",
    "        self.left = None\n",
    "        self.right = None\n",
    "        \n",
    "def display_middle(tree):\n",
    "    if tree:\n",
    "        display_middle(tree.left)\n",
    "        print(tree.val)\n",
    "        display_middle(tree.right)\n",
    "        \n",
    "def display_back(tree):\n",
    "    if tree:\n",
    "        display_back(tree.left)\n",
    "        display_back(tree.right)\n",
    "        print(tree.val)\n",
    "\n",
    "def display_front(tree):\n",
    "    if tree:\n",
    "        print(tree.val)\n",
    "        display_front(tree.left)\n",
    "        display_front(tree.right)"
   ]
  },
  {
   "cell_type": "code",
   "execution_count": 61,
   "metadata": {},
   "outputs": [],
   "source": [
    "t_front = [1, 2, 4, 7, 3, 5, 6, 8]    # 前序遍历可以找到根节点，\n",
    "t_middle = [4, 7, 2, 1, 5, 3, 8, 6]   # 中序遍历可以根据根节点找到左右子树\n",
    "\n",
    "def rebuild(preorder, inorder):\n",
    "    if len(preorder) != len(inorder):\n",
    "        return False\n",
    "    if len(preorder) == 0:\n",
    "        return None\n",
    "    root = preorder[0]  # 前序遍历根节点\n",
    "    if len(preorder) == 1:\n",
    "        return TreeNode(root)\n",
    "    \n",
    "    index = inorder.index(root)    # 在中序遍历中找到根节点的位置\n",
    "    left_inorder = inorder[:index]\n",
    "    right_inorder = inorder[index+1:]\n",
    "    \n",
    "    left_preorder = preorder[1:len(left_inorder)+1]\n",
    "    right_preorder = preorder[len(left_inorder)+1:]\n",
    "    \n",
    "    left = rebuild(left_preorder, left_inorder)\n",
    "    right = rebuild(right_preorder, right_inorder)\n",
    "    \n",
    "    tree = TreeNode(root)\n",
    "    tree.left = left\n",
    "    tree.right = right\n",
    "    return tree\n",
    "    "
   ]
  },
  {
   "cell_type": "code",
   "execution_count": 62,
   "metadata": {},
   "outputs": [],
   "source": [
    "tree = rebuild(t_front, t_middle)"
   ]
  },
  {
   "cell_type": "code",
   "execution_count": 63,
   "metadata": {},
   "outputs": [
    {
     "name": "stdout",
     "output_type": "stream",
     "text": [
      "7\n",
      "4\n",
      "2\n",
      "5\n",
      "8\n",
      "6\n",
      "3\n",
      "1\n"
     ]
    }
   ],
   "source": [
    "display_back(tree)"
   ]
  },
  {
   "cell_type": "code",
   "execution_count": 64,
   "metadata": {},
   "outputs": [
    {
     "name": "stdout",
     "output_type": "stream",
     "text": [
      "4\n",
      "7\n",
      "2\n",
      "1\n",
      "5\n",
      "3\n",
      "8\n",
      "6\n"
     ]
    }
   ],
   "source": [
    "display_middle(tree)"
   ]
  },
  {
   "cell_type": "code",
   "execution_count": 65,
   "metadata": {},
   "outputs": [
    {
     "name": "stdout",
     "output_type": "stream",
     "text": [
      "1\n",
      "2\n",
      "4\n",
      "7\n",
      "3\n",
      "5\n",
      "6\n",
      "8\n"
     ]
    }
   ],
   "source": [
    "display_front(tree)"
   ]
  },
  {
   "cell_type": "code",
   "execution_count": 69,
   "metadata": {},
   "outputs": [],
   "source": [
    "# 10\n",
    "# 递归\n",
    "from functools import lru_cache\n",
    "\n",
    "@lru_cache()\n",
    "def fib1(n):\n",
    "    if n <= 1:\n",
    "        return n\n",
    "    else:\n",
    "        return fib1(n-1) + fib1(n-2)    "
   ]
  },
  {
   "cell_type": "code",
   "execution_count": 71,
   "metadata": {},
   "outputs": [
    {
     "data": {
      "text/plain": [
       "(2, 5)"
      ]
     },
     "execution_count": 71,
     "metadata": {},
     "output_type": "execute_result"
    }
   ],
   "source": [
    "fib1(3), fib1(5)"
   ]
  },
  {
   "cell_type": "code",
   "execution_count": 72,
   "metadata": {},
   "outputs": [
    {
     "name": "stdout",
     "output_type": "stream",
     "text": [
      "0\n",
      "1\n",
      "1\n",
      "2\n",
      "3\n",
      "5\n",
      "8\n",
      "13\n",
      "21\n",
      "34\n"
     ]
    }
   ],
   "source": [
    "for i in range(10):\n",
    "    print(fib1(i))"
   ]
  },
  {
   "cell_type": "code",
   "execution_count": 73,
   "metadata": {},
   "outputs": [],
   "source": [
    "# 循环\n",
    "def fib2(n):\n",
    "    a, b = 0, 1\n",
    "    while n>0:\n",
    "        a, b = b, a+b\n",
    "        n -= 1\n",
    "    return a"
   ]
  },
  {
   "cell_type": "code",
   "execution_count": 74,
   "metadata": {},
   "outputs": [
    {
     "name": "stdout",
     "output_type": "stream",
     "text": [
      "0\n",
      "1\n",
      "1\n",
      "2\n",
      "3\n",
      "5\n",
      "8\n",
      "13\n",
      "21\n",
      "34\n"
     ]
    }
   ],
   "source": [
    "for i in range(10):\n",
    "    print(fib2(i))"
   ]
  },
  {
   "cell_type": "code",
   "execution_count": 1,
   "metadata": {},
   "outputs": [],
   "source": [
    "# 生成器\n",
    "def fib3(n):\n",
    "    a, b, = 0, 1\n",
    "    while n>=0:\n",
    "        yield a\n",
    "        a, b = b,a+b\n",
    "        n -=1"
   ]
  },
  {
   "cell_type": "code",
   "execution_count": 2,
   "metadata": {},
   "outputs": [
    {
     "name": "stdout",
     "output_type": "stream",
     "text": [
      "0\n",
      "1\n",
      "1\n",
      "2\n",
      "3\n",
      "5\n",
      "8\n",
      "13\n",
      "21\n",
      "34\n",
      "55\n"
     ]
    }
   ],
   "source": [
    "for i in fib3(10):\n",
    "    print(i)"
   ]
  },
  {
   "cell_type": "code",
   "execution_count": 23,
   "metadata": {},
   "outputs": [],
   "source": [
    "# 12\n",
    "def find_path(matrix, s):\n",
    "    if not matrix:\n",
    "        return\n",
    "    for i in range(len(matrix)):\n",
    "        for j in range(len(matrix[0])):\n",
    "            if dfs(matrix, i, j, s, []):\n",
    "                return True\n",
    "    return False\n",
    "        \n",
    "def dfs(board, i, j, s, visted):\n",
    "    if not s:\n",
    "        return True\n",
    "    # 上下左右\n",
    "    dirs = [(-1, 0), (1, 0), (0, -1), (0, 1)]\n",
    "    if 0<=i<len(board) and 0<=j<len(board[0]) and board[i][j]==s[0] and (i, j) not in visted:\n",
    "        visted.append((i, j))\n",
    "        print('visiting:', (i, j))\n",
    "        for dir in dirs:\n",
    "            new_i = i + dir[0]\n",
    "            new_j = j + dir[1]\n",
    "            print(new_i, new_j)\n",
    "            if dfs(board, new_i, new_j, s[1:], visted):\n",
    "                return True\n",
    "        visted.pop()\n",
    "#     print(board, s[0], board[i][j], 0<=i<len(board), 0<=j<len(board[0]),  board[i][j]==s[0] , (i, j) not in visted)\n",
    "    return False"
   ]
  },
  {
   "cell_type": "code",
   "execution_count": 24,
   "metadata": {},
   "outputs": [
    {
     "name": "stdout",
     "output_type": "stream",
     "text": [
      "visiting: (1, 0)\n",
      "0 0\n",
      "2 0\n",
      "1 -1\n",
      "1 1\n",
      "visiting: (1, 3)\n",
      "0 3\n",
      "visiting: (0, 3)\n",
      "-1 3\n",
      "1 3\n",
      "0 2\n",
      "0 4\n",
      "2 3\n",
      "visiting: (2, 3)\n",
      "1 3\n",
      "3 3\n",
      "2 2\n",
      "visiting: (2, 2)\n",
      "1 2\n"
     ]
    },
    {
     "data": {
      "text/plain": [
       "True"
      ]
     },
     "execution_count": 24,
     "metadata": {},
     "output_type": "execute_result"
    }
   ],
   "source": [
    "arr = [[\"a\",\"b\",\"c\",\"e\"],\n",
    "       [\"s\",\"f\",\"c\",\"s\"],\n",
    "       [\"a\",\"d\",\"e\",\"e\"]]\n",
    "find_path(arr, \"see\")"
   ]
  },
  {
   "cell_type": "code",
   "execution_count": null,
   "metadata": {},
   "outputs": [],
   "source": []
  },
  {
   "cell_type": "code",
   "execution_count": null,
   "metadata": {},
   "outputs": [],
   "source": []
  }
 ],
 "metadata": {
  "kernelspec": {
   "display_name": "Python 3",
   "language": "python",
   "name": "python3"
  },
  "language_info": {
   "codemirror_mode": {
    "name": "ipython",
    "version": 3
   },
   "file_extension": ".py",
   "mimetype": "text/x-python",
   "name": "python",
   "nbconvert_exporter": "python",
   "pygments_lexer": "ipython3",
   "version": "3.8.6"
  }
 },
 "nbformat": 4,
 "nbformat_minor": 4
}
