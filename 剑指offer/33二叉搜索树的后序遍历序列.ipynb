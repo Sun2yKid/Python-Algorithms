{
 "cells": [
  {
   "cell_type": "markdown",
   "metadata": {},
   "source": [
    "## 题目\n",
    "输入一个整数数组，判断该数组是不是某二叉搜索树的后续遍历结果。假设输入的数组的任意两个数字都互不相同。例如，输入数组{5, 7, 6, 9, 11, 10, 8}，返回true，因为该序列是下图二叉搜索树的后序遍历序列。如果输入{7, 4, 6, 5}，则返回false，因为没有哪个二叉搜索树后续遍历结果为这个序列。\n",
    "\n",
    "```\n",
    "          8\n",
    "        /  \\\n",
    "       6    10\n",
    "      / \\   / \\\n",
    "     5   7 9  11\n",
    "```"
   ]
  },
  {
   "cell_type": "code",
   "execution_count": 1,
   "metadata": {},
   "outputs": [],
   "source": [
    "class BinaryTreeNode:\n",
    "    def __init__(self, value):\n",
    "        self.value = value\n",
    "        self.left = None\n",
    "        self.right = None\n",
    "\n",
    "def display_middle(tree):\n",
    "    \"\"\"中序遍历打印二叉树, tree为根节点\"\"\"\n",
    "    if tree:\n",
    "        display_middle(tree.left)\n",
    "        print(tree.value,)\n",
    "        display_middle(tree.right)\n",
    "\n",
    "def display_front(tree):\n",
    "    \"\"\"前序遍历打印二叉树, tree为根节点\"\"\"\n",
    "    if tree:\n",
    "        print(tree.value,)\n",
    "        display_front(tree.left)\n",
    "        display_front(tree.right)\n",
    "        \n",
    "def display_back(tree):\n",
    "    \"\"\"后序遍历打印二叉树, tree为根节点\"\"\"\n",
    "    if tree:\n",
    "        display_back(tree.left)\n",
    "        display_back(tree.right)\n",
    "        print(tree.value)"
   ]
  },
  {
   "cell_type": "code",
   "execution_count": 26,
   "metadata": {},
   "outputs": [],
   "source": [
    "# 后续遍历的最后一个值为根节点\n",
    "def is_binary_search_tree(seq):\n",
    "    if not seq:\n",
    "        print(\"NULL\")\n",
    "        return False\n",
    "    r = seq[-1]\n",
    "    left, right = [], []\n",
    "    # 二叉搜素树是排序树，将小于根的放左边，其余放右边\n",
    "    for i, v in enumerate(seq[:-1]):\n",
    "        print(v)\n",
    "        if v < r:\n",
    "            left.append(v)\n",
    "        else:\n",
    "            right = seq[i:-1]\n",
    "            break\n",
    "    print(left, right)\n",
    "    # 判断右边的是不是都大于根  \n",
    "    for item in right:\n",
    "        if item < r:\n",
    "            print(\"right > root\")\n",
    "            return False\n",
    "    # 判断左右子树是不是二叉搜素树\n",
    "    is_left_tree_good = is_binary_search_tree(left) if left else True\n",
    "    is_right_tree_good = is_binary_search_tree(right) if right else True\n",
    "    \n",
    "    return is_left_tree_good & is_right_tree_good"
   ]
  },
  {
   "cell_type": "code",
   "execution_count": 27,
   "metadata": {},
   "outputs": [
    {
     "name": "stdout",
     "output_type": "stream",
     "text": [
      "5\n",
      "7\n",
      "6\n",
      "9\n",
      "[5, 7, 6] [9, 11, 10]\n",
      "5\n",
      "7\n",
      "[5] [7]\n",
      "[] []\n",
      "[] []\n",
      "9\n",
      "11\n",
      "[9] [11]\n",
      "[] []\n",
      "[] []\n"
     ]
    },
    {
     "data": {
      "text/plain": [
       "True"
      ]
     },
     "execution_count": 27,
     "metadata": {},
     "output_type": "execute_result"
    }
   ],
   "source": [
    "seq_true = [5, 7, 6, 9, 11, 10, 8]\n",
    "seq_false = [7, 4, 6, 5]\n",
    "is_binary_search_tree(seq_true)"
   ]
  },
  {
   "cell_type": "code",
   "execution_count": 28,
   "metadata": {},
   "outputs": [
    {
     "name": "stdout",
     "output_type": "stream",
     "text": [
      "7\n",
      "[] [7, 4, 6]\n",
      "right > root\n"
     ]
    },
    {
     "data": {
      "text/plain": [
       "False"
      ]
     },
     "execution_count": 28,
     "metadata": {},
     "output_type": "execute_result"
    }
   ],
   "source": [
    "is_binary_search_tree(seq_false)"
   ]
  },
  {
   "cell_type": "markdown",
   "metadata": {},
   "source": [
    "## 考点\n",
    "* 后序遍历的规律：**后序遍历最后一个值为根节点**，左子树的值都比根节点小，右子树的值都比根节点大\n",
    "* 递归判断左右子树"
   ]
  },
  {
   "cell_type": "markdown",
   "metadata": {},
   "source": [
    "## 思考：\n",
    "递归，递归，递归\n",
    "\n",
    "找规律，找规律，找规律"
   ]
  },
  {
   "cell_type": "markdown",
   "metadata": {},
   "source": [
    "## 相关题目\n",
    "如果输入的是前序遍历序列呢？同样的方法，只不过第一个值变为根节点"
   ]
  },
  {
   "cell_type": "code",
   "execution_count": null,
   "metadata": {},
   "outputs": [],
   "source": []
  }
 ],
 "metadata": {
  "kernelspec": {
   "display_name": "Python 3",
   "language": "python",
   "name": "python3"
  },
  "language_info": {
   "codemirror_mode": {
    "name": "ipython",
    "version": 3
   },
   "file_extension": ".py",
   "mimetype": "text/x-python",
   "name": "python",
   "nbconvert_exporter": "python",
   "pygments_lexer": "ipython3",
   "version": "3.6.4"
  }
 },
 "nbformat": 4,
 "nbformat_minor": 4
}
