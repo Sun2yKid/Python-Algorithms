{
 "cells": [
  {
   "cell_type": "markdown",
   "metadata": {},
   "source": [
    "## 题目：13.机器人的运动范围\n",
    "地上有一个m行n列的方格。一个机器人从坐标(0,0)的各自开始移动，它每次可以向左、右、上、下移动一格，但不能进入行坐标和列坐标的**数位之和**大于k的格子。例如，当k为18时，机器人能够进入方格(35, 37)，因为3+5+3+7=18。但不能进入方格(35, 38)，因为3+5+3+8=19。请问该机器人能到达多少个格子？"
   ]
  },
  {
   "cell_type": "code",
   "execution_count": 2,
   "metadata": {},
   "outputs": [
    {
     "data": {
      "text/plain": [
       "18"
      ]
     },
     "execution_count": 2,
     "metadata": {},
     "output_type": "execute_result"
    }
   ],
   "source": [
    "def all_dig_sum(i, j):\n",
    "    def get_dig_sum(num):\n",
    "        sum = 0\n",
    "        while num > 0:\n",
    "            div, mod = divmod(num, 10)\n",
    "            num = div\n",
    "            sum += mod\n",
    "        return sum\n",
    "    return get_dig_sum(i) + get_dig_sum(j)\n",
    "all_dig_sum(35, 37)"
   ]
  },
  {
   "cell_type": "code",
   "execution_count": 61,
   "metadata": {},
   "outputs": [],
   "source": [
    "def func(m, n, k):\n",
    "    dirs = [(-1, 0), (1, 0), (0, -1), (0, 1)]\n",
    "    return dfs(0, 0,m, n, k, [])\n",
    "    \n",
    "def dfs(i, j, m, n, k, visited):\n",
    "    count = 0\n",
    "#     print(m, i,n,j, visited, m>i>=0,n>j>=0, all_dig_sum(i, j)<=k)\n",
    "    if m>i>=0 and n>j>=0 and (i, j) not in visited and all_dig_sum(i, j)<=k:\n",
    "        visited.append((i, j))\n",
    "        count += 1\n",
    "        print(\"visting\", i, j, count)\n",
    "        for x, y in [(-1, 0), (1, 0), (0, -1), (0, 1)]:\n",
    "            new_i = x + i\n",
    "            new_j = y + j\n",
    "#             print(new_i, new_j)\n",
    "            count += dfs(new_i, new_j, m, n,k, visited)\n",
    "#         visited.pop()  # 访问过的标记不用清除\n",
    "    return count"
   ]
  },
  {
   "cell_type": "code",
   "execution_count": 62,
   "metadata": {},
   "outputs": [
    {
     "name": "stdout",
     "output_type": "stream",
     "text": [
      "visting 0 0 1\n",
      "visting 1 0 1\n",
      "visting 0 1 1\n"
     ]
    },
    {
     "data": {
      "text/plain": [
       "3"
      ]
     },
     "execution_count": 62,
     "metadata": {},
     "output_type": "execute_result"
    }
   ],
   "source": [
    "func(2,3,1)"
   ]
  },
  {
   "cell_type": "code",
   "execution_count": 63,
   "metadata": {},
   "outputs": [
    {
     "name": "stdout",
     "output_type": "stream",
     "text": [
      "visting 0 0 1\n",
      "visting 1 0 1\n",
      "visting 2 0 1\n",
      "visting 2 1 1\n",
      "visting 1 1 1\n",
      "visting 0 1 1\n"
     ]
    },
    {
     "data": {
      "text/plain": [
       "6"
      ]
     },
     "execution_count": 63,
     "metadata": {},
     "output_type": "execute_result"
    }
   ],
   "source": [
    "func(3, 2, 17)"
   ]
  },
  {
   "cell_type": "markdown",
   "metadata": {},
   "source": [
    "## 思路：\n",
    "回溯法"
   ]
  },
  {
   "cell_type": "code",
   "execution_count": 66,
   "metadata": {},
   "outputs": [
    {
     "name": "stdout",
     "output_type": "stream",
     "text": [
      "visting 0 0 1\n",
      "visting 1 0 1\n",
      "visting 2 0 1\n",
      "visting 2 1 1\n",
      "visting 1 1 1\n",
      "visting 0 1 1\n"
     ]
    },
    {
     "data": {
      "text/plain": [
       "6"
      ]
     },
     "execution_count": 66,
     "metadata": {},
     "output_type": "execute_result"
    }
   ],
   "source": [
    "func(3, 2, 20)"
   ]
  },
  {
   "cell_type": "code",
   "execution_count": 5,
   "metadata": {},
   "outputs": [
    {
     "data": {
      "text/plain": [
       "\u001b[1;31mSignature:\u001b[0m \u001b[0mdivmod\u001b[0m\u001b[1;33m(\u001b[0m\u001b[0mx\u001b[0m\u001b[1;33m,\u001b[0m \u001b[0my\u001b[0m\u001b[1;33m,\u001b[0m \u001b[1;33m/\u001b[0m\u001b[1;33m)\u001b[0m\u001b[1;33m\u001b[0m\u001b[0m\n",
       "\u001b[1;31mDocstring:\u001b[0m Return the tuple (x//y, x%y).  Invariant: div*y + mod == x.\n",
       "\u001b[1;31mType:\u001b[0m      builtin_function_or_method\n"
      ]
     },
     "metadata": {},
     "output_type": "display_data"
    }
   ],
   "source": [
    "divmod?"
   ]
  },
  {
   "cell_type": "code",
   "execution_count": null,
   "metadata": {},
   "outputs": [],
   "source": []
  }
 ],
 "metadata": {
  "kernelspec": {
   "display_name": "Python 3",
   "language": "python",
   "name": "python3"
  },
  "language_info": {
   "codemirror_mode": {
    "name": "ipython",
    "version": 3
   },
   "file_extension": ".py",
   "mimetype": "text/x-python",
   "name": "python",
   "nbconvert_exporter": "python",
   "pygments_lexer": "ipython3",
   "version": "3.6.4"
  }
 },
 "nbformat": 4,
 "nbformat_minor": 4
}
