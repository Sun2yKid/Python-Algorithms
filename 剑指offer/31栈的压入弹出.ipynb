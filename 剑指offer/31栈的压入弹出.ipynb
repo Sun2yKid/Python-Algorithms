{
 "cells": [
  {
   "cell_type": "markdown",
   "metadata": {},
   "source": [
    "## 题目\n",
    "输入两个整数序列，第一个序列表示栈的压入顺序，请判断第二个序列是否为该栈的弹出顺序。假设加入栈的数字均不相等。例如序列{1， 2， 3，4， 5}是某栈的压栈序列，序列{4，5，3， 2，1}是该栈的一个弹出序列，但{4，3，5，1，2}不是该栈的弹出序列。\n",
    "\n",
    "Leetcode 946. Validate Stack Sequences\n",
    "\n",
    "https://leetcode.com/problems/validate-stack-sequences/"
   ]
  },
  {
   "cell_type": "code",
   "execution_count": 12,
   "metadata": {},
   "outputs": [],
   "source": [
    "# 使用队列代替序列, 保证seq1不为空，保证seq2不为空\n",
    "def is_pop_seq(seq1, seq2):\n",
    "    \"judge seq2 是不是seq1的弹出序列\"\n",
    "    stack_in = []    # 辅助stack\n",
    "    stack_in.append(seq1.get())  # 先在栈中压入一个元素\n",
    "    # 1. 依次读取弹出序列的元素\n",
    "    while not seq2.empty():\n",
    "        item = seq2.get()   # item, 要弹出的元素\n",
    "        print('---item---', item)\n",
    "        # 2. 如果要弹出元素不在栈顶，压入栈直到该元素被压入然后弹出\n",
    "        while stack_in[-1] != item:\n",
    "            if seq1.empty():\n",
    "                print('no more items')\n",
    "                return False\n",
    "            else:\n",
    "                seq1_item = seq1.get()\n",
    "                print('压入', seq1_item)\n",
    "                stack_in.append(seq1_item)\n",
    "        print('弹出', stack_in.pop())\n",
    "    return True"
   ]
  },
  {
   "cell_type": "code",
   "execution_count": 13,
   "metadata": {},
   "outputs": [
    {
     "name": "stdout",
     "output_type": "stream",
     "text": [
      "---item--- 4\n",
      "压入 2\n",
      "压入 3\n",
      "压入 4\n",
      "弹出 4\n",
      "---item--- 5\n",
      "压入 5\n",
      "弹出 5\n",
      "---item--- 3\n",
      "弹出 3\n",
      "---item--- 2\n",
      "弹出 2\n",
      "---item--- 1\n",
      "弹出 1\n"
     ]
    }
   ],
   "source": [
    "  from queue import Queue\n",
    "q_in = Queue()\n",
    "q_out1 = Queue()  # 弹出序列\n",
    "q_out2 = Queue()  # 非弹出序列\n",
    "for item in [1, 2, 3, 4, 5]:\n",
    "    q_in.put(item)\n",
    "for item in [4, 5, 3, 2, 1]:\n",
    "    q_out1.put(item)\n",
    "assert is_pop_seq(q_in, q_out1)==True  # True"
   ]
  },
  {
   "cell_type": "code",
   "execution_count": 14,
   "metadata": {},
   "outputs": [
    {
     "name": "stdout",
     "output_type": "stream",
     "text": [
      "---item--- 4\n",
      "压入 2\n",
      "压入 3\n",
      "压入 4\n",
      "弹出 4\n",
      "---item--- 3\n",
      "弹出 3\n",
      "---item--- 5\n",
      "压入 5\n",
      "弹出 5\n",
      "---item--- 1\n",
      "no more items\n"
     ]
    }
   ],
   "source": [
    "for item in [1, 2, 3, 4, 5]:\n",
    "    q_in.put(item)\n",
    "for item in [4, 3, 5, 1, 2]:\n",
    "    q_out2.put(item)\n",
    "assert is_pop_seq(q_in, q_out2)==False  # False"
   ]
  },
  {
   "cell_type": "code",
   "execution_count": null,
   "metadata": {},
   "outputs": [],
   "source": []
  }
 ],
 "metadata": {
  "kernelspec": {
   "display_name": "Python 3 (ipykernel)",
   "language": "python",
   "name": "python3"
  },
  "language_info": {
   "codemirror_mode": {
    "name": "ipython",
    "version": 3
   },
   "file_extension": ".py",
   "mimetype": "text/x-python",
   "name": "python",
   "nbconvert_exporter": "python",
   "pygments_lexer": "ipython3",
   "version": "3.11.7"
  }
 },
 "nbformat": 4,
 "nbformat_minor": 4
}
