{
 "cells": [
  {
   "cell_type": "markdown",
   "metadata": {},
   "source": [
    "## 题目：剪绳子\n",
    "给你一根长度为n的绳子，请把绳子剪成m段(m, n 均为大于1的整数)，每段绳子的长度记为k[0],k[1]...,k[m]。请问k[0]*k[1]*...*k[m]可能的最大乘积是多少？例如，当绳子长为8时，剪为2， 3， 3三段，最大乘积是18"
   ]
  },
  {
   "cell_type": "markdown",
   "metadata": {},
   "source": [
    "## 要点：\n",
    "### 动态规划\n",
    "我们在应用动态规划之前要分析能否把大问题分解成小问题，分解后的每个小问题也存在最优解。如果把小问题的最优解组合起来就能得到整个问题的最优解，那么我们可以用动态规划解决这个问题。\n",
    "\n",
    "可以用动态规划求解问题的特点：\n",
    "* 1. 求一个问题的最优解\n",
    "* 2. 整体问题的最优解依赖各个子问题的最优解\n",
    "* 3. 把大问题分解成若干小问题，这些小问题之间还有相互重叠的更小的子问题\n",
    "* 4. 从上往下分析问题，从下往上求解问题\n",
    "\n",
    "为了避免重复求解子问题，可以用从下往上的顺序先计算小问题的最优解并存储下来，再以次为基础求取大问题的最优解。\n",
    "> 从上往下分析问题，从下往上求解问题\n",
    "\n",
    "```\n",
    "动态规划三步走\n",
    "1. 明确数组遍历含义\n",
    "dp[i] 表示绳子长度为i时候的最大乘积\n",
    "2. 动态转移矩阵 （用一张从这里来的图）\n",
    "dp[i] = max(dp[i], max((i-j)*j), j*dp[i-j])\n",
    "从3开始满足此矩阵\n",
    "3. 初始条件\n",
    "dp[2] = 1\n",
    "```\n",
    "引用自https://zhuanlan.zhihu.com/p/107904926"
   ]
  },
  {
   "cell_type": "code",
   "execution_count": 8,
   "metadata": {},
   "outputs": [],
   "source": [
    "# 动态规划，f(n)为把该问题的解，在剪第一刀的时候，有n-1种选择，剪出绳子第一段可能长1, 2, ..., n-1, 剩余长度n-1, ..., 2, 1\n",
    "# f(n) = max(f(i) * f(n-i)), 其中0<i<n\n",
    "# f(1) = 0\n",
    "# f(2) = 1\n",
    "# f(3) = 2 (1+2, 1+1+1)\n",
    "\n",
    "def cutting(n):\n",
    "    dp = [0] * (n+1)  # dp[i]表示绳子长度为i时的结果\n",
    "    \n",
    "    dp[0], dp[1], dp[2] = 0, 0, 1\n",
    "    # \n",
    "    for i in range(3, n+1):\n",
    "        for j in range(i):\n",
    "            dp[i] = max(dp[i], max((i-j)*j, j*dp[i-j]))\n",
    "    \n",
    "    return dp[n]"
   ]
  },
  {
   "cell_type": "code",
   "execution_count": 9,
   "metadata": {},
   "outputs": [
    {
     "data": {
      "text/plain": [
       "(2, 36)"
      ]
     },
     "execution_count": 9,
     "metadata": {},
     "output_type": "execute_result"
    }
   ],
   "source": [
    "cutting(3), cutting(10) # 36"
   ]
  },
  {
   "cell_type": "code",
   "execution_count": 10,
   "metadata": {},
   "outputs": [],
   "source": [
    "# 递归\n",
    "from functools import lru_cache\n",
    "\n",
    "def cutting2():\n",
    "    pass"
   ]
  },
  {
   "cell_type": "code",
   "execution_count": 12,
   "metadata": {},
   "outputs": [
    {
     "data": {
      "text/plain": [
       "(2, 36)"
      ]
     },
     "execution_count": 12,
     "metadata": {},
     "output_type": "execute_result"
    }
   ],
   "source": [
    "# 贪心算法1\n",
    "def cutting3(n):\n",
    "    case = [0, 0, 1, 2, 4, 6, 9]\n",
    "    if n < 7:\n",
    "        return case[n]\n",
    "    dp = case + [0] * (n-6)\n",
    "    for i in range(7, n+1):\n",
    "        dp[i] = 3 * dp[i-3]\n",
    "    return dp[-1]\n",
    "cutting3(3), cutting3(10) # 36"
   ]
  },
  {
   "cell_type": "code",
   "execution_count": 13,
   "metadata": {},
   "outputs": [
    {
     "data": {
      "text/plain": [
       "(2, 36)"
      ]
     },
     "execution_count": 13,
     "metadata": {},
     "output_type": "execute_result"
    }
   ],
   "source": [
    "# 贪心算法2\n",
    "def cutting4(n):\n",
    "    if n <=3:\n",
    "        return n-1\n",
    "    num_of_three = n // 3\n",
    "    reminder = n % 3\n",
    "    \n",
    "    if reminder == 1:\n",
    "        num_of_three = num_of_three -1\n",
    "        num_of_two = 2\n",
    "    elif reminder == 2:\n",
    "        num_of_two = 1\n",
    "    else:\n",
    "        num_of_two = 0\n",
    "    \n",
    "    return pow(3, num_of_three) * pow(2, num_of_two)\n",
    "cutting4(3), cutting4(10)"
   ]
  },
  {
   "cell_type": "markdown",
   "metadata": {},
   "source": [
    "## 考点：\n",
    "* 考察抽象建模能力，把一个具体的场景抽象成一个能够用动态规划或者贪婪算法解决的模型。\n",
    "* 考察对动态规划和贪婪算法的理解。\n",
    "> 能够灵活运用动态规划解决问题的关键是具备从上到下分析问题，从下到上解决问题的能力。\n",
    "> 灵活的贪婪算法则需要扎实的数学基本功"
   ]
  },
  {
   "cell_type": "code",
   "execution_count": null,
   "metadata": {},
   "outputs": [],
   "source": []
  }
 ],
 "metadata": {
  "kernelspec": {
   "display_name": "Python 3",
   "language": "python",
   "name": "python3"
  },
  "language_info": {
   "codemirror_mode": {
    "name": "ipython",
    "version": 3
   },
   "file_extension": ".py",
   "mimetype": "text/x-python",
   "name": "python",
   "nbconvert_exporter": "python",
   "pygments_lexer": "ipython3",
   "version": "3.6.4"
  }
 },
 "nbformat": 4,
 "nbformat_minor": 4
}
