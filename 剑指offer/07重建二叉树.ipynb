{
 "cells": [
  {
   "cell_type": "markdown",
   "metadata": {},
   "source": [
    "## 题目\n",
    "输入某个二叉树的前序遍历和中序遍历的结果，请重建该二叉树。假设输入的前序遍历和中序遍历的结果中不包含重复的数字。例如，输入前序遍历序列{1, 2, 4, 7, 3, 5, 6, 8}和中序遍历序列{4, 7, 2, 1, 5, 3, 8, 6}，则重建如下二叉树，并输出它的头节点。 \n",
    "```\n",
    "                   1    \n",
    "                 /  \\    \n",
    "                2     3    \n",
    "               /     / \\    \n",
    "              4     5   6    \n",
    "               \\       /    \n",
    "                6     8    \n",
    "```"
   ]
  },
  {
   "cell_type": "code",
   "execution_count": 1,
   "metadata": {},
   "outputs": [],
   "source": [
    "# 前序遍历可以确定根节点\n",
    "# 中序遍历可以根据根节点来分辨左右支树"
   ]
  },
  {
   "cell_type": "code",
   "execution_count": 2,
   "metadata": {},
   "outputs": [],
   "source": [
    "class BinaryTreeNode:\n",
    "    def __init__(self, value):\n",
    "        self.value = value\n",
    "        self.left = None\n",
    "        self.right = None\n",
    "        \n",
    "        \n",
    "def display_middle(tree):\n",
    "    \"\"\"中序遍历打印二叉树, tree为根节点\"\"\"\n",
    "    if tree:\n",
    "        display_middle(tree.left)\n",
    "        print(tree.value,)\n",
    "        display_middle(tree.right)\n",
    "\n",
    "def display_front(tree):\n",
    "    \"\"\"前序遍历打印二叉树, tree为根节点\"\"\"\n",
    "    if tree:\n",
    "        print(tree.value,)\n",
    "        display_front(tree.left)\n",
    "        display_front(tree.right)\n",
    "        \n",
    "def display_back(tree):\n",
    "    \"\"\"后序遍历打印二叉树, tree为根节点\"\"\"\n",
    "    if tree:\n",
    "        display_back(tree.left)\n",
    "        display_back(tree.right)\n",
    "        print(tree.value)"
   ]
  },
  {
   "cell_type": "code",
   "execution_count": 3,
   "metadata": {},
   "outputs": [
    {
     "data": {
      "text/plain": [
       "\u001b[1;31mInit signature:\u001b[0m \u001b[0mQueue\u001b[0m\u001b[1;33m(\u001b[0m\u001b[0mmaxsize\u001b[0m\u001b[1;33m=\u001b[0m\u001b[1;36m0\u001b[0m\u001b[1;33m)\u001b[0m\u001b[1;33m\u001b[0m\u001b[0m\n",
       "\u001b[1;31mDocstring:\u001b[0m     \n",
       "Create a queue object with a given maximum size.\n",
       "\n",
       "If maxsize is <= 0, the queue size is infinite.\n",
       "\u001b[1;31mFile:\u001b[0m           c:\\users\\kid\\appdata\\local\\programs\\python\\python36\\lib\\queue.py\n",
       "\u001b[1;31mType:\u001b[0m           type\n",
       "\u001b[1;31mSubclasses:\u001b[0m     PriorityQueue, LifoQueue\n"
      ]
     },
     "metadata": {},
     "output_type": "display_data"
    }
   ],
   "source": [
    "# 用queue的Queue来模拟序列, no no\n",
    "from queue import Queue\n",
    "Queue?"
   ]
  },
  {
   "cell_type": "code",
   "execution_count": 4,
   "metadata": {},
   "outputs": [],
   "source": [
    "# q_front = Queue()\n",
    "# for i in [1, 2, 4, 7, 3, 5, 6, 8]:\n",
    "#     q_front.put(i)\n",
    "# q_back = Queue()\n",
    "# for i in [4, 7, 2, 1, 5, 3, 8, 6]:\n",
    "#     q_back.put(i)\n",
    "t_front = [1, 2, 4, 7, 3, 5, 6, 8]\n",
    "t_middle = [4, 7, 2, 1, 5, 3, 8, 6]"
   ]
  },
  {
   "cell_type": "code",
   "execution_count": 5,
   "metadata": {},
   "outputs": [],
   "source": [
    "def rebuild(t_front, t_middle):\n",
    "    if len(t_front) != len(t_middle):    # 节点数必须相同\n",
    "        return False\n",
    "    \n",
    "    if len(t_front) == 0:   # 如果没有节点，返回None\n",
    "        return None\n",
    "    \n",
    "    r = t_front[0]         # 取前序遍历根节点\n",
    "    if len(t_front) == 1:  \n",
    "        return BinaryTreeNode(r)\n",
    "    \n",
    "    r_middle_index = t_middle.index(r)    # 在中序遍历中找到根节点的位置\n",
    "    \n",
    "    left_middle = t_middle[:r_middle_index]       # 左子树的中序遍历\n",
    "    right_middle = t_middle[r_middle_index+1:]    # 右子树的中序遍历\n",
    "    \n",
    "    left_front = t_front[1:len(left_middle)+1]    # 左子树的前序遍历\n",
    "    right_front = t_front[len(left_middle)+1:]    # 右子树的前序遍历\n",
    "    \n",
    "    tree = BinaryTreeNode(r)\n",
    "    tree.left = rebuild(left_front, left_middle)\n",
    "    tree.right = rebuild(right_front, right_middle)\n",
    "    return tree"
   ]
  },
  {
   "cell_type": "code",
   "execution_count": 6,
   "metadata": {},
   "outputs": [],
   "source": [
    "tree = rebuild(t_front, t_middle)"
   ]
  },
  {
   "cell_type": "code",
   "execution_count": 7,
   "metadata": {},
   "outputs": [
    {
     "data": {
      "text/plain": [
       "<__main__.BinaryTreeNode at 0x26659d26d68>"
      ]
     },
     "execution_count": 7,
     "metadata": {},
     "output_type": "execute_result"
    }
   ],
   "source": [
    "tree"
   ]
  },
  {
   "cell_type": "code",
   "execution_count": 8,
   "metadata": {},
   "outputs": [
    {
     "name": "stdout",
     "output_type": "stream",
     "text": [
      "4\n",
      "7\n",
      "2\n",
      "1\n",
      "5\n",
      "3\n",
      "8\n",
      "6\n"
     ]
    }
   ],
   "source": [
    "display_middle(tree)"
   ]
  },
  {
   "cell_type": "code",
   "execution_count": 9,
   "metadata": {},
   "outputs": [
    {
     "name": "stdout",
     "output_type": "stream",
     "text": [
      "1\n",
      "2\n",
      "4\n",
      "7\n",
      "3\n",
      "5\n",
      "6\n",
      "8\n"
     ]
    }
   ],
   "source": [
    "display_front(tree)"
   ]
  },
  {
   "cell_type": "code",
   "execution_count": 10,
   "metadata": {},
   "outputs": [
    {
     "name": "stdout",
     "output_type": "stream",
     "text": [
      "7\n",
      "4\n",
      "2\n",
      "5\n",
      "8\n",
      "6\n",
      "3\n",
      "1\n"
     ]
    }
   ],
   "source": [
    "display_back(tree)"
   ]
  },
  {
   "cell_type": "markdown",
   "metadata": {},
   "source": [
    "## 考点：\n",
    "* 对中序遍历和前序遍历的理解，知道**前序遍历可以找到根节点**， **中序遍历可以用根节点将左右分为左右子树**\n",
    "* 把构建二叉树的大问题分解为构建左、右子树的小问题，通过**递归解决**"
   ]
  },
  {
   "cell_type": "markdown",
   "metadata": {},
   "source": [
    "## 思考：\n",
    "二叉树的遍历本身就是对左右子树的递归遍历\n",
    "\n",
    "https://leetcode-cn.com/problems/zhong-jian-er-cha-shu-lcof/\n",
    "\n",
    "https://leetcode.com/problems/construct-binary-tree-from-preorder-and-inorder-traversal/"
   ]
  },
  {
   "cell_type": "code",
   "execution_count": 11,
   "metadata": {},
   "outputs": [
    {
     "data": {
      "text/plain": [
       "<__main__.BinaryTreeNode at 0x26659bd6e48>"
      ]
     },
     "execution_count": 11,
     "metadata": {},
     "output_type": "execute_result"
    }
   ],
   "source": [
    "# 测试：https://tour.go-zh.org/concurrency/8\n",
    "\n",
    "t_front = [10, 5, 3, 1, 2, 4, 7, 6, 9, 8]\n",
    "t_middle = [1, 2, 3, 4, 5, 6, 7, 8, 9, 10]\n",
    "tree = rebuild(t_front, t_middle)\n",
    "tree"
   ]
  },
  {
   "cell_type": "code",
   "execution_count": 12,
   "metadata": {},
   "outputs": [
    {
     "name": "stdout",
     "output_type": "stream",
     "text": [
      "2\n",
      "1\n",
      "4\n",
      "3\n",
      "6\n",
      "8\n",
      "9\n",
      "7\n",
      "5\n",
      "10\n"
     ]
    }
   ],
   "source": [
    "display_back(tree)  # 2,1,4,3,6,8,9,7,5,10"
   ]
  },
  {
   "cell_type": "code",
   "execution_count": 13,
   "metadata": {},
   "outputs": [
    {
     "name": "stdout",
     "output_type": "stream",
     "text": [
      "1\n",
      "2\n",
      "3\n",
      "4\n",
      "5\n",
      "6\n",
      "7\n",
      "8\n",
      "9\n"
     ]
    }
   ],
   "source": [
    "display_middle(tree.left)"
   ]
  },
  {
   "cell_type": "code",
   "execution_count": 14,
   "metadata": {},
   "outputs": [
    {
     "name": "stdout",
     "output_type": "stream",
     "text": [
      "1\n",
      "2\n",
      "3\n",
      "4\n"
     ]
    }
   ],
   "source": [
    "display_middle(tree.left.left)"
   ]
  },
  {
   "cell_type": "code",
   "execution_count": 15,
   "metadata": {},
   "outputs": [
    {
     "name": "stdout",
     "output_type": "stream",
     "text": [
      "4\n"
     ]
    }
   ],
   "source": [
    "display_middle(tree.left.left.right)"
   ]
  },
  {
   "cell_type": "code",
   "execution_count": 16,
   "metadata": {},
   "outputs": [
    {
     "name": "stdout",
     "output_type": "stream",
     "text": [
      "6\n"
     ]
    }
   ],
   "source": [
    "display_middle(tree.left.right.left)"
   ]
  },
  {
   "cell_type": "code",
   "execution_count": 17,
   "metadata": {},
   "outputs": [
    {
     "name": "stdout",
     "output_type": "stream",
     "text": [
      "8\n",
      "9\n"
     ]
    }
   ],
   "source": [
    "display_middle(tree.left.right.right)"
   ]
  },
  {
   "cell_type": "code",
   "execution_count": 18,
   "metadata": {},
   "outputs": [
    {
     "name": "stdout",
     "output_type": "stream",
     "text": [
      "8\n"
     ]
    }
   ],
   "source": [
    "display_middle(tree.left.right.right.left)"
   ]
  }
 ],
 "metadata": {
  "kernelspec": {
   "display_name": "Python 3",
   "language": "python",
   "name": "python3"
  },
  "language_info": {
   "codemirror_mode": {
    "name": "ipython",
    "version": 3
   },
   "file_extension": ".py",
   "mimetype": "text/x-python",
   "name": "python",
   "nbconvert_exporter": "python",
   "pygments_lexer": "ipython3",
   "version": "3.8.6"
  }
 },
 "nbformat": 4,
 "nbformat_minor": 4
}
