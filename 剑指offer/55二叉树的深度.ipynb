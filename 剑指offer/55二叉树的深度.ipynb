{
 "cells": [
  {
   "cell_type": "markdown",
   "metadata": {},
   "source": [
    "## 题目： 二叉树的深度\n",
    "输入一个二叉树的根节点，求该树的深度。从根节点到叶结点依次经过的节点形成树的一条路径，最长路径的长度位树的深度。"
   ]
  },
  {
   "cell_type": "code",
   "execution_count": 11,
   "metadata": {},
   "outputs": [],
   "source": [
    "class TreeNode:\n",
    "    def __init__(self, value):\n",
    "        self.value = value\n",
    "        self.left = None\n",
    "        self.right = None\n",
    "        \n",
    "\n",
    "def depth(tree):\n",
    "    if not tree:\n",
    "        return 0\n",
    "    if tree.left or tree.right:\n",
    "        return 1 + max(depth(tree.left), depth(tree.right))\n",
    "    else:\n",
    "        return 1"
   ]
  },
  {
   "cell_type": "code",
   "execution_count": 12,
   "metadata": {},
   "outputs": [],
   "source": [
    "tree = TreeNode(1)"
   ]
  },
  {
   "cell_type": "code",
   "execution_count": 13,
   "metadata": {},
   "outputs": [],
   "source": [
    "tree.left, tree.right = TreeNode(2), TreeNode(3)"
   ]
  },
  {
   "cell_type": "code",
   "execution_count": 14,
   "metadata": {},
   "outputs": [],
   "source": [
    "tree.left.left, tree.left.right = TreeNode(4), TreeNode(5)"
   ]
  },
  {
   "cell_type": "code",
   "execution_count": 15,
   "metadata": {},
   "outputs": [],
   "source": [
    "tree.left.right.left = TreeNode(7)"
   ]
  },
  {
   "cell_type": "code",
   "execution_count": 16,
   "metadata": {},
   "outputs": [],
   "source": [
    "tree.right.right = TreeNode(6)"
   ]
  },
  {
   "cell_type": "code",
   "execution_count": 17,
   "metadata": {},
   "outputs": [],
   "source": [
    "def display_middle(tree):\n",
    "    if tree:\n",
    "        display_middle(tree.left)\n",
    "        print(tree.value)\n",
    "        display_middle(tree.right)"
   ]
  },
  {
   "cell_type": "code",
   "execution_count": 18,
   "metadata": {},
   "outputs": [
    {
     "name": "stdout",
     "output_type": "stream",
     "text": [
      "4\n",
      "2\n",
      "7\n",
      "5\n",
      "1\n",
      "3\n",
      "6\n"
     ]
    }
   ],
   "source": [
    "display_middle(tree)"
   ]
  },
  {
   "cell_type": "code",
   "execution_count": 19,
   "metadata": {},
   "outputs": [
    {
     "data": {
      "text/plain": [
       "4"
      ]
     },
     "execution_count": 19,
     "metadata": {},
     "output_type": "execute_result"
    }
   ],
   "source": [
    "depth(tree)"
   ]
  },
  {
   "cell_type": "markdown",
   "metadata": {},
   "source": [
    "## 平衡二叉树\n",
    "如果一个二叉树中任意节点的左右子树的深度相差不超过1， 那么他就是一棵平衡二叉树。"
   ]
  },
  {
   "cell_type": "code",
   "execution_count": 21,
   "metadata": {},
   "outputs": [],
   "source": [
    "# 利用后序遍历，防止重复遍历节点\n",
    "def is_balanced(tree):\n",
    "    return balanced(tree) != -1\n",
    "\n",
    "def balanced(tree):\n",
    "    if not tree:\n",
    "        return 0\n",
    "    left = balanced(tree.left)\n",
    "    if left == -1:\n",
    "        return -1\n",
    "    right = balanced(tree.right)\n",
    "    if right == -1:\n",
    "        return -1\n",
    "    return 1 + max(left+right) if abs(left-right) else -1\n",
    "    "
   ]
  },
  {
   "cell_type": "code",
   "execution_count": 22,
   "metadata": {},
   "outputs": [
    {
     "data": {
      "text/plain": [
       "False"
      ]
     },
     "execution_count": 22,
     "metadata": {},
     "output_type": "execute_result"
    }
   ],
   "source": [
    "is_balanced(tree)"
   ]
  },
  {
   "cell_type": "code",
   "execution_count": null,
   "metadata": {},
   "outputs": [],
   "source": []
  }
 ],
 "metadata": {
  "kernelspec": {
   "display_name": "Python 3",
   "language": "python",
   "name": "python3"
  },
  "language_info": {
   "codemirror_mode": {
    "name": "ipython",
    "version": 3
   },
   "file_extension": ".py",
   "mimetype": "text/x-python",
   "name": "python",
   "nbconvert_exporter": "python",
   "pygments_lexer": "ipython3",
   "version": "3.6.4"
  }
 },
 "nbformat": 4,
 "nbformat_minor": 4
}
