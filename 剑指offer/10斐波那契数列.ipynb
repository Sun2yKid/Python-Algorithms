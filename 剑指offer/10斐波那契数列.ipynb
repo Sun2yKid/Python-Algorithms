{
 "cells": [
  {
   "cell_type": "markdown",
   "metadata": {},
   "source": [
    "## 题目一：\n",
    "求斐波那契数列的第n项。\n",
    "写一个函数，输入n，求斐波那契数列(Fibonacci)的第n项。定义如下：\n",
    "\n",
    "fn = n (n=0); fn = 1 (n=1); fn = f(n-1) + f(n-2) (n>1) "
   ]
  },
  {
   "cell_type": "code",
   "execution_count": 21,
   "metadata": {},
   "outputs": [],
   "source": [
    "# 递归\n",
    "import functools\n",
    "\n",
    "@functools.lru_cache()    # least recent used, 做备忘，递归，缓存重复计算的结果\n",
    "def fib1(n):\n",
    "    print('cal', n)\n",
    "    if n <= 1:\n",
    "        return n\n",
    "    return fib1(n-1) + fib1(n-2)"
   ]
  },
  {
   "cell_type": "code",
   "execution_count": 22,
   "metadata": {},
   "outputs": [
    {
     "name": "stdout",
     "output_type": "stream",
     "text": [
      "cal 0\n",
      "0\n",
      "cal 1\n",
      "1\n",
      "cal 2\n",
      "1\n",
      "cal 3\n",
      "2\n",
      "cal 4\n",
      "3\n",
      "cal 5\n",
      "5\n",
      "cal 6\n",
      "8\n",
      "cal 7\n",
      "13\n",
      "cal 8\n",
      "21\n",
      "cal 9\n",
      "34\n"
     ]
    }
   ],
   "source": [
    "for i in range(10):\n",
    "    print(fib1(i))"
   ]
  },
  {
   "cell_type": "code",
   "execution_count": 10,
   "metadata": {},
   "outputs": [
    {
     "data": {
      "text/plain": [
       "\u001b[1;31mDocstring:\u001b[0m\n",
       "print(value, ..., sep=' ', end='\\n', file=sys.stdout, flush=False)\n",
       "\n",
       "Prints the values to a stream, or to sys.stdout by default.\n",
       "Optional keyword arguments:\n",
       "file:  a file-like object (stream); defaults to the current sys.stdout.\n",
       "sep:   string inserted between values, default a space.\n",
       "end:   string appended after the last value, default a newline.\n",
       "flush: whether to forcibly flush the stream.\n",
       "\u001b[1;31mType:\u001b[0m      builtin_function_or_method\n"
      ]
     },
     "metadata": {},
     "output_type": "display_data"
    }
   ],
   "source": [
    "print?"
   ]
  },
  {
   "cell_type": "code",
   "execution_count": 25,
   "metadata": {},
   "outputs": [],
   "source": [
    "# 循环\n",
    "def fib2(n):\n",
    "    a, b = 0, 1\n",
    "    while n>=0:\n",
    "        yield a\n",
    "        a, b = b, a+b\n",
    "        n -= 1"
   ]
  },
  {
   "cell_type": "code",
   "execution_count": 26,
   "metadata": {},
   "outputs": [
    {
     "name": "stdout",
     "output_type": "stream",
     "text": [
      "<generator object fib2 at 0x000002834896F780>\n",
      "<generator object fib2 at 0x000002834896F780>\n",
      "<generator object fib2 at 0x000002834896F780>\n",
      "<generator object fib2 at 0x000002834896F780>\n",
      "<generator object fib2 at 0x000002834896F780>\n",
      "<generator object fib2 at 0x000002834896F780>\n",
      "<generator object fib2 at 0x000002834896F780>\n",
      "<generator object fib2 at 0x000002834896F780>\n",
      "<generator object fib2 at 0x000002834896F780>\n",
      "<generator object fib2 at 0x000002834896F780>\n"
     ]
    }
   ],
   "source": [
    "for i in range(10):\n",
    "    print(fib2(i))"
   ]
  },
  {
   "cell_type": "code",
   "execution_count": 27,
   "metadata": {},
   "outputs": [
    {
     "name": "stdout",
     "output_type": "stream",
     "text": [
      "0\n",
      "1\n",
      "1\n",
      "2\n",
      "3\n",
      "5\n",
      "8\n",
      "13\n",
      "21\n",
      "34\n"
     ]
    }
   ],
   "source": [
    "for i in fib2(9):\n",
    "    print(i)"
   ]
  },
  {
   "cell_type": "markdown",
   "metadata": {},
   "source": [
    "## 题目二：青蛙跳台阶问题\n",
    "一只青蛙一次可以跳上1级台阶，也可以跳上2级台阶。求该青蛙跳上一个n级台阶总共有多少种跳法。"
   ]
  },
  {
   "cell_type": "code",
   "execution_count": 28,
   "metadata": {},
   "outputs": [],
   "source": [
    "# 将跳n级台阶看成n的函数f(n)\n",
    "# 如果只有1级台阶，有1种跳法, f(1)=1；有两级台阶，有两种跳法，一次跳两个，或一次跳一个, f(2)=2;\n",
    "# 跳三级台阶可以看做：1. 跳1级台阶，跳剩下两级台阶的次数 2. 跳2级台阶，跳剩下1级台阶的次数；一共f(2) + f(1)次\n",
    "# 跳n级台阶可以看成f(n-1)+f(n-2), 分别是第一次跳的两种选择的剩余台阶的次数。"
   ]
  },
  {
   "cell_type": "markdown",
   "metadata": {},
   "source": [
    "## 考点：\n",
    "* 递归和循环的理解和编码能力\n",
    "* 时间复杂度的分析能力，递归方法可能会产生很多重复计算\n",
    "* 数学建模能力，比如青蛙问题。"
   ]
  },
  {
   "cell_type": "markdown",
   "metadata": {},
   "source": [
    "## 思考：\n",
    "* 递归和循环都需要明确的停止条件！\n",
    "* 递归的缺点是：因为递归调用是函数调用，有空间和时间的消耗。\n",
    "> 在内存栈中分配空间以保存参数、返回地址和临时变量；    \n",
    "> 每次调用都有压栈和出栈的时间；    \n",
    "> 调用层级太多可能会导致栈溢出；    "
   ]
  },
  {
   "cell_type": "markdown",
   "metadata": {},
   "source": [
    "## 拓展\n",
    "1. 青蛙跳台阶问题，把条件改为青蛙一次可以跳任意级台阶，则有多少种跳法？\n",
    "> 需要用数学归纳法证明f(n)=2^n-1\n",
    "2. 矩阵覆盖问题\n",
    "> 同样建模为斐波那契数列\n",
    "\n",
    "leetcode 70. Climbing Stairs\n",
    "https://leetcode.com/problems/climbing-stairs/submissions/"
   ]
  },
  {
   "cell_type": "code",
   "execution_count": null,
   "metadata": {},
   "outputs": [],
   "source": []
  }
 ],
 "metadata": {
  "kernelspec": {
   "display_name": "Python 3",
   "language": "python",
   "name": "python3"
  },
  "language_info": {
   "codemirror_mode": {
    "name": "ipython",
    "version": 3
   },
   "file_extension": ".py",
   "mimetype": "text/x-python",
   "name": "python",
   "nbconvert_exporter": "python",
   "pygments_lexer": "ipython3",
   "version": "3.6.4"
  }
 },
 "nbformat": 4,
 "nbformat_minor": 4
}
