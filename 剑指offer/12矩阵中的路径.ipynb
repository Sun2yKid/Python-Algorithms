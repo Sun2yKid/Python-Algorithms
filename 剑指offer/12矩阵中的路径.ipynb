{
 "cells": [
  {
   "cell_type": "markdown",
   "metadata": {},
   "source": [
    "## 题目：\n",
    "设计一个函数，用来判断在一个矩阵中是否存在一条包含某字符串所有字符的路径。路径可以从矩阵中的任意一格开始，每一步可以在矩阵中向左、向右、上、下移动一格。如果一条路径经过了矩阵的某一路，那么该路径不能再次进入该格子。\n",
    "\n",
    "Leetcode 79. Word Search\n",
    "\n",
    "https://leetcode.com/problems/word-search/submissions/"
   ]
  },
  {
   "cell_type": "code",
   "execution_count": 1,
   "metadata": {},
   "outputs": [],
   "source": [
    "# 回溯法"
   ]
  },
  {
   "cell_type": "code",
   "execution_count": 82,
   "metadata": {},
   "outputs": [],
   "source": [
    "def exist(board, word):\n",
    "    if not board:\n",
    "        return False\n",
    "    for i in range(len(board)):  # row\n",
    "        for j in range(len(board[0])):  # column\n",
    "            if dfs(board, word, i, j, []):\n",
    "                return True\n",
    "    return False\n",
    "\n",
    "def dfs(board, word, i, j, visted):\n",
    "    if len(word) == 0:\n",
    "        return True\n",
    "    \n",
    "#     print(\"visit\", i, j, board[i][j], word[0], board[i][j] == word[0], (i, j) not in visted)\n",
    "    if 0<=i<len(board) and 0<=j<len(board[0]) and (i, j) not in visted and board[i][j] == word[0]:\n",
    "        visted.append((i, j))\n",
    "        print(\"visting\", visted)\n",
    "        #          (i-1, j)\n",
    "        # (i, j-1) (i,   j) (i, j+1)\n",
    "        #          (i+1, j)\n",
    "        dirs = [(-1, 0), (1, 0), (0, -1), (0, 1)]  # 上 下 左 右\n",
    "        for dir in dirs:\n",
    "            new_i = dir[0] + i\n",
    "            new_j = dir[1] + j\n",
    "            print(\"new\", new_i, new_j)\n",
    "            if dfs(board, word[1:], new_i, new_j, visted):\n",
    "#                 print(board[new_i][new_j], 'found', (new_i, new_j))\n",
    "                return True\n",
    "        visted.pop()\n",
    "    \n",
    "    return False"
   ]
  },
  {
   "cell_type": "code",
   "execution_count": 83,
   "metadata": {},
   "outputs": [
    {
     "data": {
      "text/plain": [
       "[['a', 'b', 'c', 'e'], ['s', 'f', 'c', 's'], ['a', 'd', 'e', 'e']]"
      ]
     },
     "execution_count": 83,
     "metadata": {},
     "output_type": "execute_result"
    }
   ],
   "source": [
    "arr = [[\"a\",\"b\",\"c\",\"e\"],\n",
    "       [\"s\",\"f\",\"c\",\"s\"],\n",
    "       [\"a\",\"d\",\"e\",\"e\"]]\n",
    "arr"
   ]
  },
  {
   "cell_type": "code",
   "execution_count": 84,
   "metadata": {},
   "outputs": [
    {
     "name": "stdout",
     "output_type": "stream",
     "text": [
      "visting [(1, 0)]\n",
      "new 0 0\n",
      "new 2 0\n",
      "new 1 -1\n",
      "new 1 1\n",
      "visting [(1, 3)]\n",
      "new 0 3\n",
      "visting [(1, 3), (0, 3)]\n",
      "new -1 3\n",
      "new 1 3\n",
      "new 0 2\n",
      "new 0 4\n",
      "new 2 3\n",
      "visting [(1, 3), (2, 3)]\n",
      "new 1 3\n",
      "new 3 3\n",
      "new 2 2\n",
      "visting [(1, 3), (2, 3), (2, 2)]\n",
      "new 1 2\n"
     ]
    },
    {
     "data": {
      "text/plain": [
       "True"
      ]
     },
     "execution_count": 84,
     "metadata": {},
     "output_type": "execute_result"
    }
   ],
   "source": [
    "exist(arr, \"see\")"
   ]
  },
  {
   "cell_type": "code",
   "execution_count": 85,
   "metadata": {},
   "outputs": [
    {
     "name": "stdout",
     "output_type": "stream",
     "text": [
      "visting [(0, 1)]\n",
      "new -1 1\n",
      "new 1 1\n",
      "visting [(0, 1), (1, 1)]\n",
      "new 0 1\n",
      "new 2 1\n",
      "new 1 0\n",
      "new 1 2\n",
      "visting [(0, 1), (1, 1), (1, 2)]\n",
      "new 0 2\n",
      "new 2 2\n",
      "visting [(0, 1), (1, 1), (1, 2), (2, 2)]\n",
      "new 1 2\n"
     ]
    },
    {
     "data": {
      "text/plain": [
       "True"
      ]
     },
     "execution_count": 85,
     "metadata": {},
     "output_type": "execute_result"
    }
   ],
   "source": [
    "exist(arr, \"bfce\")"
   ]
  },
  {
   "cell_type": "code",
   "execution_count": 87,
   "metadata": {},
   "outputs": [
    {
     "name": "stdout",
     "output_type": "stream",
     "text": [
      "visting [(0, 0)]\n",
      "new -1 0\n",
      "new 1 0\n",
      "new 0 -1\n",
      "new 0 1\n",
      "visting [(0, 0), (0, 1)]\n",
      "new -1 1\n",
      "new 1 1\n",
      "visting [(0, 0), (0, 1), (1, 1)]\n",
      "new 0 1\n",
      "new 2 1\n",
      "new 1 0\n",
      "new 1 2\n",
      "new 0 0\n",
      "new 0 2\n",
      "visting [(2, 0)]\n",
      "new 1 0\n",
      "new 3 0\n",
      "new 2 -1\n",
      "new 2 1\n"
     ]
    },
    {
     "data": {
      "text/plain": [
       "False"
      ]
     },
     "execution_count": 87,
     "metadata": {},
     "output_type": "execute_result"
    }
   ],
   "source": [
    "exist(arr, 'abfb')"
   ]
  },
  {
   "cell_type": "markdown",
   "metadata": {},
   "source": [
    "## 思路\n",
    "回溯法\n",
    "深度优先遍历"
   ]
  },
  {
   "cell_type": "code",
   "execution_count": null,
   "metadata": {},
   "outputs": [],
   "source": []
  }
 ],
 "metadata": {
  "kernelspec": {
   "display_name": "Python 3",
   "language": "python",
   "name": "python3"
  },
  "language_info": {
   "codemirror_mode": {
    "name": "ipython",
    "version": 3
   },
   "file_extension": ".py",
   "mimetype": "text/x-python",
   "name": "python",
   "nbconvert_exporter": "python",
   "pygments_lexer": "ipython3",
   "version": "3.6.4"
  }
 },
 "nbformat": 4,
 "nbformat_minor": 4
}
