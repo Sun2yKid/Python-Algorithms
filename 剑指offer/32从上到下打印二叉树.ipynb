{
 "cells": [
  {
   "cell_type": "markdown",
   "metadata": {},
   "source": [
    "## 题目一：不分行从上到下打印二叉树\n",
    "从上到下打印出二叉树的每个节点，同一层的节点按照从左到右的顺序打印。"
   ]
  },
  {
   "cell_type": "code",
   "execution_count": 23,
   "metadata": {},
   "outputs": [],
   "source": [
    "class TreeNode:\n",
    "    def __init__(self, value):\n",
    "        self.value = value\n",
    "        self.left = None\n",
    "        self.right = None\n",
    "    \n",
    "def display_middle(tree):\n",
    "    if tree:\n",
    "        display_middle(tree.left)\n",
    "        print(tree.value)\n",
    "        display_middle(tree.right)"
   ]
  },
  {
   "cell_type": "code",
   "execution_count": 28,
   "metadata": {},
   "outputs": [],
   "source": [
    "# 使用队列, 广度优先\n",
    "def print_down(tree):\n",
    "    from queue import Queue\n",
    "    q = Queue()\n",
    "    if not tree:\n",
    "        reutrn\n",
    "    q.put(tree)\n",
    "    result = []\n",
    "    while q.qsize():\n",
    "        node = q.get()\n",
    "        result.append(node.value)\n",
    "        if node.left:\n",
    "            q.put(node.left)\n",
    "        if node.right:\n",
    "            q.put(node.right)\n",
    "    return result"
   ]
  },
  {
   "cell_type": "code",
   "execution_count": 29,
   "metadata": {},
   "outputs": [
    {
     "data": {
      "text/plain": [
       "<__main__.TreeNode at 0x1d484395ef0>"
      ]
     },
     "execution_count": 29,
     "metadata": {},
     "output_type": "execute_result"
    }
   ],
   "source": [
    "tree = TreeNode(8)\n",
    "tree.left = TreeNode(6)\n",
    "tree.right = TreeNode(10)\n",
    "tree.left.left = TreeNode(5)\n",
    "tree.left.right = TreeNode(7)\n",
    "tree.right.left = TreeNode(9)\n",
    "tree.right.right = TreeNode(11)\n",
    "tree"
   ]
  },
  {
   "cell_type": "code",
   "execution_count": 30,
   "metadata": {},
   "outputs": [
    {
     "name": "stdout",
     "output_type": "stream",
     "text": [
      "5\n",
      "6\n",
      "7\n",
      "8\n",
      "9\n",
      "10\n",
      "11\n"
     ]
    }
   ],
   "source": [
    "display_middle(tree)"
   ]
  },
  {
   "cell_type": "code",
   "execution_count": 31,
   "metadata": {},
   "outputs": [
    {
     "data": {
      "text/plain": [
       "[8, 6, 10, 5, 7, 9, 11]"
      ]
     },
     "execution_count": 31,
     "metadata": {},
     "output_type": "execute_result"
    }
   ],
   "source": [
    "print_down(tree)"
   ]
  },
  {
   "cell_type": "markdown",
   "metadata": {},
   "source": [
    "## 考点\n",
    "* 从上到下遍历，找出其中规律，并想到基于队列的算法\n",
    "> 不管是广度优先遍历一副有向图还是一棵树，都要用到队列。"
   ]
  },
  {
   "cell_type": "markdown",
   "metadata": {},
   "source": [
    "## 题目二：\n",
    "分行从上到下打印二叉树"
   ]
  },
  {
   "cell_type": "code",
   "execution_count": 32,
   "metadata": {},
   "outputs": [],
   "source": [
    "def println_down(tree):\n",
    "    pass"
   ]
  },
  {
   "cell_type": "code",
   "execution_count": 33,
   "metadata": {},
   "outputs": [
    {
     "data": {
      "text/plain": [
       "deque([])"
      ]
     },
     "execution_count": 33,
     "metadata": {},
     "output_type": "execute_result"
    }
   ],
   "source": [
    "from collections import deque\n",
    "dq = deque()\n",
    "dq"
   ]
  },
  {
   "cell_type": "code",
   "execution_count": 35,
   "metadata": {},
   "outputs": [
    {
     "data": {
      "text/plain": [
       "0"
      ]
     },
     "execution_count": 35,
     "metadata": {},
     "output_type": "execute_result"
    }
   ],
   "source": [
    "1 if dq else 0"
   ]
  },
  {
   "cell_type": "code",
   "execution_count": 38,
   "metadata": {},
   "outputs": [
    {
     "data": {
      "text/plain": [
       "deque([])"
      ]
     },
     "execution_count": 38,
     "metadata": {},
     "output_type": "execute_result"
    }
   ],
   "source": [
    "dq"
   ]
  },
  {
   "cell_type": "code",
   "execution_count": 39,
   "metadata": {},
   "outputs": [
    {
     "data": {
      "text/plain": [
       "deque([1])"
      ]
     },
     "execution_count": 39,
     "metadata": {},
     "output_type": "execute_result"
    }
   ],
   "source": [
    "dq.append(1)\n",
    "dq"
   ]
  },
  {
   "cell_type": "code",
   "execution_count": 40,
   "metadata": {},
   "outputs": [
    {
     "data": {
      "text/plain": [
       "1"
      ]
     },
     "execution_count": 40,
     "metadata": {},
     "output_type": "execute_result"
    }
   ],
   "source": [
    "dq[-1]"
   ]
  },
  {
   "cell_type": "code",
   "execution_count": 43,
   "metadata": {},
   "outputs": [],
   "source": [
    "dq[-1]+=3"
   ]
  },
  {
   "cell_type": "code",
   "execution_count": 44,
   "metadata": {},
   "outputs": [
    {
     "data": {
      "text/plain": [
       "deque([4])"
      ]
     },
     "execution_count": 44,
     "metadata": {},
     "output_type": "execute_result"
    }
   ],
   "source": [
    "dq"
   ]
  },
  {
   "cell_type": "code",
   "execution_count": 64,
   "metadata": {},
   "outputs": [],
   "source": [
    "def levelOrder(root: TreeNode):\n",
    "    if not root:\n",
    "        return []\n",
    "    level = 0\n",
    "    from collections import deque\n",
    "    dq = deque()\n",
    "    dq.append((root, 0))\n",
    "    current_level = -1\n",
    "    result = []\n",
    "    while dq:\n",
    "        node, level = dq.popleft()\n",
    "        print(node.value, level, current_level)\n",
    "        if current_level == level:\n",
    "            result[-1].append(node.value)\n",
    "        else:\n",
    "            current_level = level\n",
    "            result.append([node.value])\n",
    "        if node.left:\n",
    "            print(\"left\", node.left.value, level+1)\n",
    "            dq.append((node.left, level+1))\n",
    "        if node.right:\n",
    "            print(\"right\", node.right.value, level+1)\n",
    "            dq.append((node.right, level+1))\n",
    "        print(result)\n",
    "    return result"
   ]
  },
  {
   "cell_type": "code",
   "execution_count": 65,
   "metadata": {},
   "outputs": [
    {
     "name": "stdout",
     "output_type": "stream",
     "text": [
      "8 0 -1\n",
      "left 6 1\n",
      "right 10 1\n",
      "[[8]]\n",
      "6 1 0\n",
      "left 5 2\n",
      "right 7 2\n",
      "[[8], [6]]\n",
      "10 1 1\n",
      "left 9 2\n",
      "right 11 2\n",
      "[[8], [6, 10]]\n",
      "5 2 1\n",
      "[[8], [6, 10], [5]]\n",
      "7 2 2\n",
      "[[8], [6, 10], [5, 7]]\n",
      "9 2 2\n",
      "[[8], [6, 10], [5, 7, 9]]\n",
      "11 2 2\n",
      "[[8], [6, 10], [5, 7, 9, 11]]\n"
     ]
    },
    {
     "data": {
      "text/plain": [
       "[[8], [6, 10], [5, 7, 9, 11]]"
      ]
     },
     "execution_count": 65,
     "metadata": {},
     "output_type": "execute_result"
    }
   ],
   "source": [
    "levelOrder(tree)"
   ]
  },
  {
   "cell_type": "markdown",
   "metadata": {},
   "source": [
    "## 思路\n",
    "* 将层级一起存进队列去\n",
    "* 也可以使用一个中间栈，将每一行的结果缓存\n",
    "* 可以使用两个变量：一个变量表示当前层还没有打印的节点数，另一个变量表示下一层节点数"
   ]
  },
  {
   "cell_type": "markdown",
   "metadata": {},
   "source": [
    "## 题目三：之字形打印二叉树\n",
    "第一行按照从左到右顺序打印，第二层按照从右向左打印，第三行再按照从左到右打印，依次类推。"
   ]
  },
  {
   "cell_type": "code",
   "execution_count": 66,
   "metadata": {},
   "outputs": [
    {
     "data": {
      "text/plain": [
       "[[8], [10, 6], [9, 11, 5, 7]]"
      ]
     },
     "execution_count": 66,
     "metadata": {},
     "output_type": "execute_result"
    }
   ],
   "source": [
    "def levelOrder2(root):\n",
    "    if not root:\n",
    "        return []\n",
    "    from collections import deque\n",
    "    dq = deque()\n",
    "    dq.append((root, 0))\n",
    "    result = []\n",
    "    current_level = -1\n",
    "    while dq:\n",
    "        node, level = dq.popleft()\n",
    "        if level == current_level:\n",
    "            result[-1].append(node.value)\n",
    "        else:\n",
    "            current_level = level\n",
    "            result.append([node.value])\n",
    "        if level % 2 != 0:\n",
    "            if node.left:\n",
    "                dq.append((node.left, level+1))\n",
    "            if node.right:\n",
    "                dq.append((node.right, level+1))\n",
    "        else:\n",
    "            if node.right:\n",
    "                dq.append((node.right, level+1))\n",
    "            if node.left:\n",
    "                dq.append((node.left, level+1))\n",
    "    return result\n",
    "levelOrder2(tree)  # [[8], [10, 6], [ 5, 7, 9, 11]] 错了！"
   ]
  },
  {
   "cell_type": "code",
   "execution_count": 67,
   "metadata": {},
   "outputs": [
    {
     "data": {
      "text/plain": [
       "(deque([4]), 1)"
      ]
     },
     "execution_count": 67,
     "metadata": {},
     "output_type": "execute_result"
    }
   ],
   "source": [
    "dq, len(dq)"
   ]
  },
  {
   "cell_type": "code",
   "execution_count": 82,
   "metadata": {},
   "outputs": [],
   "source": [
    "def levelOrder3(root):\n",
    "    if not root:\n",
    "        return []\n",
    "    from collections import deque\n",
    "    dq = deque()\n",
    "    dq.append((root, 0))\n",
    "    result = []\n",
    "    while dq:\n",
    "        l = len(dq)\n",
    "        res = []\n",
    "        level_result = []\n",
    "        for _ in range(l):\n",
    "            node, level = dq.popleft()\n",
    "            level_result.append(node.value)\n",
    "            if level % 2 != 0:\n",
    "                if node.right:\n",
    "                    res.append((node.right, level+1))\n",
    "                if node.left:\n",
    "                    res.append((node.left, level+1))\n",
    "            else:\n",
    "                if node.left:\n",
    "                    res.append((node.left, level+1))\n",
    "                if node.right:\n",
    "                    res.append((node.right, level+1))\n",
    "        print(res)\n",
    "        print(res[::-1])\n",
    "        for item in res[::-1]:\n",
    "            dq.append(item)\n",
    "        if level_result:\n",
    "            result.append(level_result)\n",
    "    return result\n",
    "                \n",
    "                "
   ]
  },
  {
   "cell_type": "code",
   "execution_count": 83,
   "metadata": {},
   "outputs": [
    {
     "name": "stdout",
     "output_type": "stream",
     "text": [
      "[(<__main__.TreeNode object at 0x000001D484395DD8>, 1), (<__main__.TreeNode object at 0x000001D484395F28>, 1)]\n",
      "[(<__main__.TreeNode object at 0x000001D484395F28>, 1), (<__main__.TreeNode object at 0x000001D484395DD8>, 1)]\n",
      "[(<__main__.TreeNode object at 0x000001D48438AEB8>, 2), (<__main__.TreeNode object at 0x000001D48438AFD0>, 2), (<__main__.TreeNode object at 0x000001D48438AD68>, 2), (<__main__.TreeNode object at 0x000001D48438AF60>, 2)]\n",
      "[(<__main__.TreeNode object at 0x000001D48438AF60>, 2), (<__main__.TreeNode object at 0x000001D48438AD68>, 2), (<__main__.TreeNode object at 0x000001D48438AFD0>, 2), (<__main__.TreeNode object at 0x000001D48438AEB8>, 2)]\n",
      "[]\n",
      "[]\n"
     ]
    },
    {
     "data": {
      "text/plain": [
       "[[8], [10, 6], [5, 7, 9, 11]]"
      ]
     },
     "execution_count": 83,
     "metadata": {},
     "output_type": "execute_result"
    }
   ],
   "source": [
    "levelOrder3(tree) # [[8], [10, 6], [5, 7, 9, 11]] "
   ]
  },
  {
   "cell_type": "code",
   "execution_count": 84,
   "metadata": {},
   "outputs": [],
   "source": [
    "# 必须吐槽以下，用自己的方法做怎坑，这时间复杂度远超该用的时间，咋办，想掀桌子！"
   ]
  },
  {
   "cell_type": "code",
   "execution_count": null,
   "metadata": {},
   "outputs": [],
   "source": []
  }
 ],
 "metadata": {
  "kernelspec": {
   "display_name": "Python 3",
   "language": "python",
   "name": "python3"
  },
  "language_info": {
   "codemirror_mode": {
    "name": "ipython",
    "version": 3
   },
   "file_extension": ".py",
   "mimetype": "text/x-python",
   "name": "python",
   "nbconvert_exporter": "python",
   "pygments_lexer": "ipython3",
   "version": "3.6.4"
  }
 },
 "nbformat": 4,
 "nbformat_minor": 4
}
