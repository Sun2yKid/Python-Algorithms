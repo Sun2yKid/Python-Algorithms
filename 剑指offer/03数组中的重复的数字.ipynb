{
 "cells": [
  {
   "cell_type": "markdown",
   "metadata": {},
   "source": [
    "## 题目一：\n",
    "\n",
    "在一个长度为n的数组里的所有数字都在0~n-1的范围内。数组种某些数字是重复的，但不知道有几个数字重复了，也不知道每个数字重复了几次。请找出数组中任意一个重复的数字。"
   ]
  },
  {
   "cell_type": "markdown",
   "metadata": {},
   "source": [
    "## 1. 使用collections库中的Counter"
   ]
  },
  {
   "cell_type": "code",
   "execution_count": 1,
   "metadata": {},
   "outputs": [],
   "source": [
    "from collections import Counter"
   ]
  },
  {
   "cell_type": "code",
   "execution_count": 14,
   "metadata": {},
   "outputs": [
    {
     "data": {
      "text/plain": [
       "Counter({2: 2, 3: 3, 1: 1, 0: 1, 5: 1})"
      ]
     },
     "execution_count": 14,
     "metadata": {},
     "output_type": "execute_result"
    }
   ],
   "source": [
    "a = [2, 3, 1, 0, 2, 5, 3, 3]\n",
    "c = Counter(a)\n",
    "c"
   ]
  },
  {
   "cell_type": "code",
   "execution_count": 15,
   "metadata": {},
   "outputs": [
    {
     "data": {
      "text/plain": [
       "<function Counter.items>"
      ]
     },
     "execution_count": 15,
     "metadata": {},
     "output_type": "execute_result"
    }
   ],
   "source": [
    "c.items"
   ]
  },
  {
   "cell_type": "code",
   "execution_count": 20,
   "metadata": {},
   "outputs": [
    {
     "name": "stdout",
     "output_type": "stream",
     "text": [
      "2 2\n",
      "3 3\n",
      "1 1\n",
      "0 1\n",
      "5 1\n",
      "[2, 3]\n"
     ]
    }
   ],
   "source": [
    "duplicate_nums = []\n",
    "for k, v in c.items():\n",
    "    print(k, v)\n",
    "    if v > 1:\n",
    "        duplicate_nums.append(k)\n",
    "print(duplicate_nums)"
   ]
  },
  {
   "cell_type": "code",
   "execution_count": 23,
   "metadata": {},
   "outputs": [
    {
     "data": {
      "text/plain": [
       "[2, 3]"
      ]
     },
     "execution_count": 23,
     "metadata": {},
     "output_type": "execute_result"
    }
   ],
   "source": [
    "[item for item, count in c.items() if count > 1]"
   ]
  },
  {
   "cell_type": "markdown",
   "metadata": {},
   "source": [
    "## 思路&方法\n",
    "1. 先把数字排序，从头到尾扫描一遍，就能找哦到重复的数据。\n",
    "> 排序一个长度为n的数组需要O(nlogn)的时间\n",
    "2. 利用哈希表，使用大小为O(n)的哈希表为代价，遍历一遍存哈希表花费时间O(n)\n",
    "3. 利用下标(交换数字，较难想到)\n",
    "> 两层循环，每个数字最多交换两次就能找到属于它的位置"
   ]
  },
  {
   "cell_type": "markdown",
   "metadata": {},
   "source": [
    "## 考点\n",
    "* 一维数组在内存空间中时连续的空间，可以利用下标来定位元素\n",
    "* 通过具体的例子找规律"
   ]
  },
  {
   "cell_type": "code",
   "execution_count": null,
   "metadata": {},
   "outputs": [],
   "source": []
  }
 ],
 "metadata": {
  "kernelspec": {
   "display_name": "Python 3",
   "language": "python",
   "name": "python3"
  },
  "language_info": {
   "codemirror_mode": {
    "name": "ipython",
    "version": 3
   },
   "file_extension": ".py",
   "mimetype": "text/x-python",
   "name": "python",
   "nbconvert_exporter": "python",
   "pygments_lexer": "ipython3",
   "version": "3.6.4"
  }
 },
 "nbformat": 4,
 "nbformat_minor": 4
}
