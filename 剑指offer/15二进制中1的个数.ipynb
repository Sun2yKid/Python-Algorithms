{
 "cells": [
  {
   "cell_type": "markdown",
   "metadata": {},
   "source": [
    "## 题目：\n",
    "实现一个函数，输入一个整数，输出该整数二进制表示中1的个数。例如，把9表示成二进制1001，有2位是1。"
   ]
  },
  {
   "cell_type": "code",
   "execution_count": 4,
   "metadata": {},
   "outputs": [],
   "source": [
    "# 常规解法：遍历, n>>1的方式在负数时会造成死循环, \n",
    "def find1(n):\n",
    "    count = 0\n",
    "    # 每一位跟1做与运算\n",
    "    flag = 1\n",
    "    while flag:\n",
    "        if n & flag == 1:\n",
    "            count += 1\n",
    "        flag = flag << 1\n",
    "    return count                    # 该方式负数也不行"
   ]
  },
  {
   "cell_type": "code",
   "execution_count": null,
   "metadata": {},
   "outputs": [],
   "source": [
    "# 把一个整数减去1之后再和原来的整数做位与运算，得到的结果相当于把整数的二进制表示中最右边的1变成0\n",
    "def find1_2(n):\n",
    "    count = 0\n",
    "    while n:\n",
    "        print(bin(n))\n",
    "        count += 1\n",
    "        n = n &(n-1)\n",
    "        import time\n",
    "        time.sleep(0.5)\n",
    "    return count\n",
    "find1_2(3), find1_2(7)  # , find1_2(-2), 负数不行"
   ]
  },
  {
   "cell_type": "code",
   "execution_count": 3,
   "metadata": {},
   "outputs": [
    {
     "data": {
      "text/plain": [
       "'-0b1'"
      ]
     },
     "execution_count": 3,
     "metadata": {},
     "output_type": "execute_result"
    }
   ],
   "source": [
    "bin(-1)"
   ]
  },
  {
   "cell_type": "code",
   "execution_count": null,
   "metadata": {},
   "outputs": [],
   "source": [
    "bin?"
   ]
  },
  {
   "cell_type": "code",
   "execution_count": null,
   "metadata": {},
   "outputs": [],
   "source": [
    "# pythonic way\n",
    "def find1_bin(n):\n",
    "    bin(n).count('1')"
   ]
  }
 ],
 "metadata": {
  "kernelspec": {
   "display_name": "Python 3",
   "language": "python",
   "name": "python3"
  },
  "language_info": {
   "codemirror_mode": {
    "name": "ipython",
    "version": 3
   },
   "file_extension": ".py",
   "mimetype": "text/x-python",
   "name": "python",
   "nbconvert_exporter": "python",
   "pygments_lexer": "ipython3",
   "version": "3.6.4"
  }
 },
 "nbformat": 4,
 "nbformat_minor": 4
}
