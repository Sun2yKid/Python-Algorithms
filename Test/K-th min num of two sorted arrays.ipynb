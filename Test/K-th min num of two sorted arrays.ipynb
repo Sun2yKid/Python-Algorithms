{
 "cells": [
  {
   "cell_type": "markdown",
   "metadata": {},
   "source": [
    "## K-th Element of Two Sorted Arrays\n",
    "tow sorted arrays(may have repetitive number), find the k-th min element."
   ]
  },
  {
   "cell_type": "code",
   "execution_count": 9,
   "metadata": {},
   "outputs": [],
   "source": [
    "def find_kth_min(arr1, arr2, k):\n",
    "    stack = []\n",
    "    i, j = 0, 0\n",
    "    while len(stack)< k and i<len(arr1) and j <len(arr2):\n",
    "        if arr1[i] <= arr2[j]:\n",
    "            if len(stack)== 0 or stack[-1] != arr1[i]:\n",
    "                stack.append(arr1[i])\n",
    "            i += 1\n",
    "        else:\n",
    "            if len(stack)== 0 or stack[-1] != arr2[j]:\n",
    "                stack.append(arr2[j])\n",
    "            j += 1\n",
    "    if len(stack) == k:\n",
    "        return stack[-1]\n",
    "    if i == len(arr1):\n",
    "        while len(stack) < k:\n",
    "            if stack[-1] != arr2[j]:\n",
    "                stack.append(arr2[j])\n",
    "            j += 1\n",
    "    if j == len(arr2):\n",
    "        while len(stack) < k:\n",
    "            if stack[-1] != arr1[i]:\n",
    "                stack.append(arr1[i])\n",
    "            i += 1\n",
    "    return stack[-1]"
   ]
  },
  {
   "cell_type": "code",
   "execution_count": 10,
   "metadata": {},
   "outputs": [],
   "source": [
    "arr1 = [1, 2, 3, 4, 4, 5]\n",
    "arr2 = [2, 5, 7, 8, 10]\n"
   ]
  },
  {
   "cell_type": "code",
   "execution_count": 11,
   "metadata": {},
   "outputs": [
    {
     "data": {
      "text/plain": [
       "3"
      ]
     },
     "execution_count": 11,
     "metadata": {},
     "output_type": "execute_result"
    }
   ],
   "source": [
    "find_kth_min(arr1, arr2, 3)"
   ]
  },
  {
   "cell_type": "code",
   "execution_count": 12,
   "metadata": {},
   "outputs": [
    {
     "data": {
      "text/plain": [
       "5"
      ]
     },
     "execution_count": 12,
     "metadata": {},
     "output_type": "execute_result"
    }
   ],
   "source": [
    "find_kth_min(arr1, arr2, 5)"
   ]
  },
  {
   "cell_type": "code",
   "execution_count": null,
   "metadata": {},
   "outputs": [],
   "source": []
  }
 ],
 "metadata": {
  "kernelspec": {
   "display_name": "Python 3 (ipykernel)",
   "language": "python",
   "name": "python3"
  },
  "language_info": {
   "codemirror_mode": {
    "name": "ipython",
    "version": 3
   },
   "file_extension": ".py",
   "mimetype": "text/x-python",
   "name": "python",
   "nbconvert_exporter": "python",
   "pygments_lexer": "ipython3",
   "version": "3.11.7"
  }
 },
 "nbformat": 4,
 "nbformat_minor": 4
}
