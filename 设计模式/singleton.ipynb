{
 "cells": [
  {
   "cell_type": "markdown",
   "metadata": {},
   "source": [
    "# singleton 单例模式\n",
    "```\n",
    "保证一个类仅有一个实例，并提供一个访问它的全局访问点。\n",
    "怎么才能保证一个类只有一个实例并且这个实例易于被访问呢？一个全局变量使用一个对象可以被访问，但他不能防止你实例化多个对象。\n",
    "\n",
    "一个更好的办法是，让类自身负责保存它的唯一实例。这个类可以保证没有其他实例可以被创建(通过截取创建对象的新请求)，并且它可以提供一个访问该实例的方法。这就是Singleton模式。        ---《设计模式, 可复用面向对象软件的基础》\n",
    "```"
   ]
  },
  {
   "cell_type": "code",
   "execution_count": 2,
   "metadata": {},
   "outputs": [],
   "source": [
    "import heapq"
   ]
  },
  {
   "cell_type": "code",
   "execution_count": 3,
   "metadata": {},
   "outputs": [
    {
     "name": "stdout",
     "output_type": "stream",
     "text": [
      "Object `heapq.push` not found.\n"
     ]
    }
   ],
   "source": [
    "heapq.push?"
   ]
  },
  {
   "cell_type": "code",
   "execution_count": 4,
   "metadata": {},
   "outputs": [
    {
     "data": {
      "text/plain": [
       "\u001b[1;31mDocstring:\u001b[0m heappush(heap, item) -> None. Push item onto heap, maintaining the heap invariant.\n",
       "\u001b[1;31mType:\u001b[0m      builtin_function_or_method\n"
      ]
     },
     "metadata": {},
     "output_type": "display_data"
    }
   ],
   "source": [
    "heapq.heappush?"
   ]
  },
  {
   "cell_type": "code",
   "execution_count": null,
   "metadata": {},
   "outputs": [],
   "source": []
  }
 ],
 "metadata": {
  "kernelspec": {
   "display_name": "Python 3",
   "language": "python",
   "name": "python3"
  },
  "language_info": {
   "codemirror_mode": {
    "name": "ipython",
    "version": 3
   },
   "file_extension": ".py",
   "mimetype": "text/x-python",
   "name": "python",
   "nbconvert_exporter": "python",
   "pygments_lexer": "ipython3",
   "version": "3.8.6"
  }
 },
 "nbformat": 4,
 "nbformat_minor": 4
}
