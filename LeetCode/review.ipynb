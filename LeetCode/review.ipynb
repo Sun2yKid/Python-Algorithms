{
 "cells": [
  {
   "cell_type": "markdown",
   "metadata": {},
   "source": [
    "# update readme.md"
   ]
  },
  {
   "cell_type": "code",
   "execution_count": 2,
   "metadata": {},
   "outputs": [
    {
     "name": "stdout",
     "output_type": "stream",
     "text": [
      "[141. Linked List Cycle.ipynb](141.%20Linked%20List%20Cycle.ipynb)\n",
      "\n",
      "[142. Linked List Cycle II.ipynb](142.%20Linked%20List%20Cycle%20II.ipynb)\n",
      "\n"
     ]
    }
   ],
   "source": [
    "import os\n",
    "names = []\n",
    "new_add = ('141','142')\n",
    "for root, dirs, files in os.walk('.'):\n",
    "    for name in files:\n",
    "        # number started\n",
    "        # if name[0].isdigit() and '-checkpoint' not in name:\n",
    "        if name.startswith(new_add) and '-checkpoint' not in name:\n",
    "            names.append('[' + name + ']' + '(' + name.replace(' ', '%20') + ')' + '\\n')\n",
    "with open('readme.md', 'a') as f:\n",
    "    for name in names:\n",
    "        print(name)\n",
    "        f.writelines(name+'\\n')\n"
   ]
  },
  {
   "cell_type": "code",
   "execution_count": 7,
   "metadata": {},
   "outputs": [],
   "source": [
    "# 71. Simplify Path\n",
    "def simplify_path(s):\n",
    "    print('path:', s)\n",
    "    result = []\n",
    "    for item in s.split('/'):\n",
    "        if item in ['.', '']:\n",
    "            continue\n",
    "        elif item == '..':\n",
    "            if result:\n",
    "                result.pop()\n",
    "            continue\n",
    "        else:\n",
    "            result.append(item)\n",
    "    return '/'+ '/'.join(result)"
   ]
  },
  {
   "cell_type": "code",
   "execution_count": 8,
   "metadata": {},
   "outputs": [
    {
     "name": "stdout",
     "output_type": "stream",
     "text": [
      "path: /a/../../b/../c//.//\n"
     ]
    },
    {
     "data": {
      "text/plain": [
       "'/c'"
      ]
     },
     "execution_count": 8,
     "metadata": {},
     "output_type": "execute_result"
    }
   ],
   "source": [
    "p = \"/home/\"\n",
    "p = \"/../\"\n",
    "p = \"/home//foo/\"\n",
    "p = \"/a/./b/../../c/\"\n",
    "p = \"/a/../../b/../c//.//\"\n",
    "\n",
    "simplify_path(p)"
   ]
  },
  {
   "cell_type": "code",
   "execution_count": 16,
   "metadata": {},
   "outputs": [
    {
     "name": "stdout",
     "output_type": "stream",
     "text": [
      "{0: 'A', 1: 'B', 2: 'C', 3: 'D', 4: 'E', 5: 'F', 6: 'G', 7: 'H', 8: 'I', 9: 'J', 10: 'K', 11: 'L', 12: 'M', 13: 'N', 14: 'O', 15: 'P', 16: 'Q', 17: 'R', 18: 'S', 19: 'T', 20: 'U', 21: 'V', 22: 'W', 23: 'X', 24: 'Y', 25: 'Z'}\n"
     ]
    }
   ],
   "source": [
    "# 168 Excel Sheet Column Title\n",
    "import string\n",
    "chars = {}\n",
    "uppercase = string.ascii_uppercase\n",
    "for i, v in zip(range(len(uppercase)), uppercase):\n",
    "#     print(i, v)\n",
    "    chars[i] = v\n",
    "print(chars)\n",
    "def transfer(nums):\n",
    "    result = ''\n",
    "    while nums > 0:\n",
    "        nums -= 1\n",
    "        d, v = divmod(nums, 26)\n",
    "        nums = d\n",
    "        result = chars[v] + result\n",
    "    return result"
   ]
  },
  {
   "cell_type": "code",
   "execution_count": 17,
   "metadata": {},
   "outputs": [
    {
     "data": {
      "text/plain": [
       "\u001b[1;31mSignature:\u001b[0m \u001b[0mdivmod\u001b[0m\u001b[1;33m(\u001b[0m\u001b[0mx\u001b[0m\u001b[1;33m,\u001b[0m \u001b[0my\u001b[0m\u001b[1;33m,\u001b[0m \u001b[1;33m/\u001b[0m\u001b[1;33m)\u001b[0m\u001b[1;33m\u001b[0m\u001b[0m\n",
       "\u001b[1;31mDocstring:\u001b[0m Return the tuple (x//y, x%y).  Invariant: div*y + mod == x.\n",
       "\u001b[1;31mType:\u001b[0m      builtin_function_or_method\n"
      ]
     },
     "metadata": {},
     "output_type": "display_data"
    }
   ],
   "source": [
    "divmod?"
   ]
  },
  {
   "cell_type": "code",
   "execution_count": 18,
   "metadata": {},
   "outputs": [
    {
     "data": {
      "text/plain": [
       "('A', 'Z', 'AA', 'AZ', 'BA')"
      ]
     },
     "execution_count": 18,
     "metadata": {},
     "output_type": "execute_result"
    }
   ],
   "source": [
    "transfer(1), transfer(26), transfer(27), transfer(52), transfer(53) ## A, Z, AA, AZ, BA "
   ]
  },
  {
   "cell_type": "code",
   "execution_count": 4,
   "metadata": {},
   "outputs": [
    {
     "data": {
      "text/plain": [
       "\u001b[1;31mType:\u001b[0m        module\n",
       "\u001b[1;31mString form:\u001b[0m <module 'ntpath' from 'c:\\\\users\\\\kid\\\\envs\\\\python3\\\\lib\\\\ntpath.py'>\n",
       "\u001b[1;31mFile:\u001b[0m        c:\\users\\kid\\envs\\python3\\lib\\ntpath.py\n",
       "\u001b[1;31mDocstring:\u001b[0m  \n",
       "Common pathname manipulations, WindowsNT/95 version.\n",
       "\n",
       "Instead of importing this module directly, import os and refer to this\n",
       "module as os.path.\n"
      ]
     },
     "metadata": {},
     "output_type": "display_data"
    }
   ],
   "source": [
    "import os\n",
    "os.path?"
   ]
  },
  {
   "cell_type": "code",
   "execution_count": 5,
   "metadata": {},
   "outputs": [
    {
     "data": {
      "text/plain": [
       "\u001b[1;31mSignature:\u001b[0m \u001b[0mos\u001b[0m\u001b[1;33m.\u001b[0m\u001b[0mwalk\u001b[0m\u001b[1;33m(\u001b[0m\u001b[0mtop\u001b[0m\u001b[1;33m,\u001b[0m \u001b[0mtopdown\u001b[0m\u001b[1;33m=\u001b[0m\u001b[1;32mTrue\u001b[0m\u001b[1;33m,\u001b[0m \u001b[0monerror\u001b[0m\u001b[1;33m=\u001b[0m\u001b[1;32mNone\u001b[0m\u001b[1;33m,\u001b[0m \u001b[0mfollowlinks\u001b[0m\u001b[1;33m=\u001b[0m\u001b[1;32mFalse\u001b[0m\u001b[1;33m)\u001b[0m\u001b[1;33m\u001b[0m\u001b[0m\n",
       "\u001b[1;31mDocstring:\u001b[0m\n",
       "Directory tree generator.\n",
       "\n",
       "For each directory in the directory tree rooted at top (including top\n",
       "itself, but excluding '.' and '..'), yields a 3-tuple\n",
       "\n",
       "    dirpath, dirnames, filenames\n",
       "\n",
       "dirpath is a string, the path to the directory.  dirnames is a list of\n",
       "the names of the subdirectories in dirpath (excluding '.' and '..').\n",
       "filenames is a list of the names of the non-directory files in dirpath.\n",
       "Note that the names in the lists are just names, with no path components.\n",
       "To get a full path (which begins with top) to a file or directory in\n",
       "dirpath, do os.path.join(dirpath, name).\n",
       "\n",
       "If optional arg 'topdown' is true or not specified, the triple for a\n",
       "directory is generated before the triples for any of its subdirectories\n",
       "(directories are generated top down).  If topdown is false, the triple\n",
       "for a directory is generated after the triples for all of its\n",
       "subdirectories (directories are generated bottom up).\n",
       "\n",
       "When topdown is true, the caller can modify the dirnames list in-place\n",
       "(e.g., via del or slice assignment), and walk will only recurse into the\n",
       "subdirectories whose names remain in dirnames; this can be used to prune the\n",
       "search, or to impose a specific order of visiting.  Modifying dirnames when\n",
       "topdown is false is ineffective, since the directories in dirnames have\n",
       "already been generated by the time dirnames itself is generated. No matter\n",
       "the value of topdown, the list of subdirectories is retrieved before the\n",
       "tuples for the directory and its subdirectories are generated.\n",
       "\n",
       "By default errors from the os.scandir() call are ignored.  If\n",
       "optional arg 'onerror' is specified, it should be a function; it\n",
       "will be called with one argument, an OSError instance.  It can\n",
       "report the error to continue with the walk, or raise the exception\n",
       "to abort the walk.  Note that the filename is available as the\n",
       "filename attribute of the exception object.\n",
       "\n",
       "By default, os.walk does not follow symbolic links to subdirectories on\n",
       "systems that support them.  In order to get this functionality, set the\n",
       "optional argument 'followlinks' to true.\n",
       "\n",
       "Caution:  if you pass a relative pathname for top, don't change the\n",
       "current working directory between resumptions of walk.  walk never\n",
       "changes the current directory, and assumes that the client doesn't\n",
       "either.\n",
       "\n",
       "Example:\n",
       "\n",
       "import os\n",
       "from os.path import join, getsize\n",
       "for root, dirs, files in os.walk('python/Lib/email'):\n",
       "    print(root, \"consumes\", end=\"\")\n",
       "    print(sum([getsize(join(root, name)) for name in files]), end=\"\")\n",
       "    print(\"bytes in\", len(files), \"non-directory files\")\n",
       "    if 'CVS' in dirs:\n",
       "        dirs.remove('CVS')  # don't visit CVS directories\n",
       "\u001b[1;31mFile:\u001b[0m      c:\\users\\kid\\envs\\python3\\lib\\os.py\n",
       "\u001b[1;31mType:\u001b[0m      function\n"
      ]
     },
     "metadata": {},
     "output_type": "display_data"
    }
   ],
   "source": [
    "os.walk?"
   ]
  },
  {
   "cell_type": "code",
   "execution_count": 25,
   "metadata": {},
   "outputs": [
    {
     "data": {
      "text/plain": [
       "False"
      ]
     },
     "execution_count": 25,
     "metadata": {},
     "output_type": "execute_result"
    }
   ],
   "source": [
    "'str.startwith?'.startswith('[0-9]')"
   ]
  },
  {
   "cell_type": "code",
   "execution_count": 11,
   "metadata": {},
   "outputs": [
    {
     "data": {
      "text/plain": [
       "\u001b[1;31mDocstring:\u001b[0m\n",
       "S.startswith(prefix[, start[, end]]) -> bool\n",
       "\n",
       "Return True if S starts with the specified prefix, False otherwise.\n",
       "With optional start, test S beginning at that position.\n",
       "With optional end, stop comparing S at that position.\n",
       "prefix can also be a tuple of strings to try.\n",
       "\u001b[1;31mType:\u001b[0m      method_descriptor\n"
      ]
     },
     "metadata": {},
     "output_type": "display_data"
    }
   ],
   "source": [
    "str.startswith?"
   ]
  },
  {
   "cell_type": "code",
   "execution_count": null,
   "metadata": {},
   "outputs": [],
   "source": []
  }
 ],
 "metadata": {
  "kernelspec": {
   "display_name": "Python 3",
   "language": "python",
   "name": "python3"
  },
  "language_info": {
   "codemirror_mode": {
    "name": "ipython",
    "version": 3
   },
   "file_extension": ".py",
   "mimetype": "text/x-python",
   "name": "python",
   "nbconvert_exporter": "python",
   "pygments_lexer": "ipython3",
   "version": "3.8.6"
  }
 },
 "nbformat": 4,
 "nbformat_minor": 4
}
