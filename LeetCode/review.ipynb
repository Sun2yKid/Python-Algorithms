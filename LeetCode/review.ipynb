{
 "cells": [
  {
   "cell_type": "code",
   "execution_count": 7,
   "metadata": {},
   "outputs": [],
   "source": [
    "# 71. Simplify Path\n",
    "def simplify_path(s):\n",
    "    print('path:', s)\n",
    "    result = []\n",
    "    for item in s.split('/'):\n",
    "        if item in ['.', '']:\n",
    "            continue\n",
    "        elif item == '..':\n",
    "            if result:\n",
    "                result.pop()\n",
    "            continue\n",
    "        else:\n",
    "            result.append(item)\n",
    "    return '/'+ '/'.join(result)"
   ]
  },
  {
   "cell_type": "code",
   "execution_count": 8,
   "metadata": {},
   "outputs": [
    {
     "name": "stdout",
     "output_type": "stream",
     "text": [
      "path: /a/../../b/../c//.//\n"
     ]
    },
    {
     "data": {
      "text/plain": [
       "'/c'"
      ]
     },
     "execution_count": 8,
     "metadata": {},
     "output_type": "execute_result"
    }
   ],
   "source": [
    "p = \"/home/\"\n",
    "p = \"/../\"\n",
    "p = \"/home//foo/\"\n",
    "p = \"/a/./b/../../c/\"\n",
    "p = \"/a/../../b/../c//.//\"\n",
    "\n",
    "simplify_path(p)"
   ]
  },
  {
   "cell_type": "code",
   "execution_count": 16,
   "metadata": {},
   "outputs": [
    {
     "name": "stdout",
     "output_type": "stream",
     "text": [
      "{0: 'A', 1: 'B', 2: 'C', 3: 'D', 4: 'E', 5: 'F', 6: 'G', 7: 'H', 8: 'I', 9: 'J', 10: 'K', 11: 'L', 12: 'M', 13: 'N', 14: 'O', 15: 'P', 16: 'Q', 17: 'R', 18: 'S', 19: 'T', 20: 'U', 21: 'V', 22: 'W', 23: 'X', 24: 'Y', 25: 'Z'}\n"
     ]
    }
   ],
   "source": [
    "# 168 Excel Sheet Column Title\n",
    "import string\n",
    "chars = {}\n",
    "uppercase = string.ascii_uppercase\n",
    "for i, v in zip(range(len(uppercase)), uppercase):\n",
    "#     print(i, v)\n",
    "    chars[i] = v\n",
    "print(chars)\n",
    "def transfer(nums):\n",
    "    result = ''\n",
    "    while nums > 0:\n",
    "        nums -= 1\n",
    "        d, v = divmod(nums, 26)\n",
    "        nums = d\n",
    "        result = chars[v] + result\n",
    "    return result"
   ]
  },
  {
   "cell_type": "code",
   "execution_count": 17,
   "metadata": {},
   "outputs": [
    {
     "data": {
      "text/plain": [
       "\u001b[1;31mSignature:\u001b[0m \u001b[0mdivmod\u001b[0m\u001b[1;33m(\u001b[0m\u001b[0mx\u001b[0m\u001b[1;33m,\u001b[0m \u001b[0my\u001b[0m\u001b[1;33m,\u001b[0m \u001b[1;33m/\u001b[0m\u001b[1;33m)\u001b[0m\u001b[1;33m\u001b[0m\u001b[0m\n",
       "\u001b[1;31mDocstring:\u001b[0m Return the tuple (x//y, x%y).  Invariant: div*y + mod == x.\n",
       "\u001b[1;31mType:\u001b[0m      builtin_function_or_method\n"
      ]
     },
     "metadata": {},
     "output_type": "display_data"
    }
   ],
   "source": [
    "divmod?"
   ]
  },
  {
   "cell_type": "code",
   "execution_count": 18,
   "metadata": {},
   "outputs": [
    {
     "data": {
      "text/plain": [
       "('A', 'Z', 'AA', 'AZ', 'BA')"
      ]
     },
     "execution_count": 18,
     "metadata": {},
     "output_type": "execute_result"
    }
   ],
   "source": [
    "transfer(1), transfer(26), transfer(27), transfer(52), transfer(53) ## A, Z, AA, AZ, BA "
   ]
  },
  {
   "cell_type": "code",
   "execution_count": null,
   "metadata": {},
   "outputs": [],
   "source": []
  }
 ],
 "metadata": {
  "kernelspec": {
   "display_name": "Python 3",
   "language": "python",
   "name": "python3"
  },
  "language_info": {
   "codemirror_mode": {
    "name": "ipython",
    "version": 3
   },
   "file_extension": ".py",
   "mimetype": "text/x-python",
   "name": "python",
   "nbconvert_exporter": "python",
   "pygments_lexer": "ipython3",
   "version": "3.6.4"
  }
 },
 "nbformat": 4,
 "nbformat_minor": 4
}
