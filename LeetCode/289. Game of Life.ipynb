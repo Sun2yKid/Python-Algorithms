{
 "cells": [
  {
   "cell_type": "markdown",
   "metadata": {},
   "source": [
    "289. Game of Life https://leetcode.com/problems/game-of-life/"
   ]
  },
  {
   "cell_type": "markdown",
   "metadata": {},
   "source": [
    "According to the Wikipedia's article: \"The Game of Life, also known simply as Life, is a cellular automaton devised by the British mathematician John Horton Conway in 1970.\"\n",
    "\n",
    "Given a board with m by n cells, each cell has an initial state live (1) or dead (0). Each cell interacts with its eight neighbors (horizontal, vertical, diagonal) using the following four rules (taken from the above Wikipedia article):\n",
    "\n",
    "Any live cell with fewer than two live neighbors dies, as if caused by under-population.\n",
    "Any live cell with two or three live neighbors lives on to the next generation.\n",
    "Any live cell with more than three live neighbors dies, as if by over-population..\n",
    "Any dead cell with exactly three live neighbors becomes a live cell, as if by reproduction.\n",
    "Write a function to compute the next state (after one update) of the board given its current state. The next state is created by applying the above rules simultaneously to every cell in the current state, where births and deaths occur simultaneously.\n",
    "\n",
    "Example:\n",
    "```\n",
    "Input: \n",
    "[\n",
    "  [0,1,0],\n",
    "  [0,0,1],\n",
    "  [1,1,1],\n",
    "  [0,0,0]\n",
    "]\n",
    "Output: \n",
    "[\n",
    "  [0,0,0],\n",
    "  [1,0,1],\n",
    "  [0,1,1],\n",
    "  [0,1,0]\n",
    "]\n",
    "```"
   ]
  },
  {
   "cell_type": "code",
   "execution_count": 35,
   "metadata": {},
   "outputs": [
    {
     "name": "stdout",
     "output_type": "stream",
     "text": [
      "[(0, 1), (1, 0), (1, 1)]\n",
      "0 0 1\n"
     ]
    },
    {
     "data": {
      "text/plain": [
       "1"
      ]
     },
     "execution_count": 35,
     "metadata": {},
     "output_type": "execute_result"
    }
   ],
   "source": [
    "def game_of_life(board):\n",
    "    new_board = [[0] * len(board[0]) for _ in range(len(board))]\n",
    "    print(new_board)\n",
    "    for i in range(len(board)):\n",
    "        for j in range(len(board[0])):\n",
    "            lives = get_around_lives(board, i,j)\n",
    "            if board[i][j] == 1:\n",
    "                if lives not in [2, 3]:\n",
    "                    board[i][j] = 3   # live -> dead\n",
    "            if board[i][j] == 0:\n",
    "                if lives == 3:\n",
    "                    board[i][j] = 2  # dead -> live\n",
    "    # 3->0, 2->1\n",
    "    for m in range(len(board)):\n",
    "        for n in range(len(board[0])):\n",
    "            if board[m][n] == 3:\n",
    "                board[m][n] = 0\n",
    "            if board[m][n] == 2:\n",
    "                board[m][n] = 1\n",
    "    return board    \n",
    "            \n",
    "def get_around_lives(board, i, j):\n",
    "    l = (-1, 0, 1) \n",
    "    #ll = [(-1, -1), (-1, 0), (-1, 1), (0, -1), (0, 1), (1, -1), (1, 0), (1, 1)]\n",
    "    around = []\n",
    "    for x in l:\n",
    "        for y in l:\n",
    "            if not (x == 0 and y == 0) and len(board)>i+x >=0 and len(board[0])> j+y >=0:\n",
    "                around.append((i+x, j+y))\n",
    "    print(around)\n",
    "    lives = 0\n",
    "    for x, y in around:\n",
    "        if board[x][y] in (1, 3):\n",
    "            lives += 1\n",
    "    print(i, j, lives)\n",
    "    return lives\n",
    "board = [\n",
    "  [0,1,0],\n",
    "  [0,0,1],\n",
    "  [1,1,1],\n",
    "  [0,0,0]\n",
    "]\n",
    "get_around_lives(board, 0,0)"
   ]
  },
  {
   "cell_type": "code",
   "execution_count": 36,
   "metadata": {},
   "outputs": [
    {
     "name": "stdout",
     "output_type": "stream",
     "text": [
      "[[0, 0, 0], [0, 0, 0], [0, 0, 0], [0, 0, 0]]\n",
      "[(0, 1), (1, 0), (1, 1)]\n",
      "0 0 1\n",
      "[(0, 0), (0, 2), (1, 0), (1, 1), (1, 2)]\n",
      "0 1 1\n",
      "[(0, 1), (1, 1), (1, 2)]\n",
      "0 2 2\n",
      "[(0, 0), (0, 1), (1, 1), (2, 0), (2, 1)]\n",
      "1 0 3\n",
      "[(0, 0), (0, 1), (0, 2), (1, 0), (1, 2), (2, 0), (2, 1), (2, 2)]\n",
      "1 1 5\n",
      "[(0, 1), (0, 2), (1, 1), (2, 1), (2, 2)]\n",
      "1 2 3\n",
      "[(1, 0), (1, 1), (2, 1), (3, 0), (3, 1)]\n",
      "2 0 1\n",
      "[(1, 0), (1, 1), (1, 2), (2, 0), (2, 2), (3, 0), (3, 1), (3, 2)]\n",
      "2 1 3\n",
      "[(1, 1), (1, 2), (2, 1), (3, 1), (3, 2)]\n",
      "2 2 2\n",
      "[(2, 0), (2, 1), (3, 1)]\n",
      "3 0 2\n",
      "[(2, 0), (2, 1), (2, 2), (3, 0), (3, 2)]\n",
      "3 1 3\n",
      "[(2, 1), (2, 2), (3, 1)]\n",
      "3 2 2\n"
     ]
    },
    {
     "data": {
      "text/plain": [
       "[[0, 0, 0], [1, 0, 1], [0, 1, 1], [0, 1, 0]]"
      ]
     },
     "execution_count": 36,
     "metadata": {},
     "output_type": "execute_result"
    }
   ],
   "source": [
    "game_of_life(board)"
   ]
  }
 ],
 "metadata": {
  "kernelspec": {
   "display_name": "Python 3",
   "language": "python",
   "name": "python3"
  },
  "language_info": {
   "codemirror_mode": {
    "name": "ipython",
    "version": 3
   },
   "file_extension": ".py",
   "mimetype": "text/x-python",
   "name": "python",
   "nbconvert_exporter": "python",
   "pygments_lexer": "ipython3",
   "version": "3.6.4"
  }
 },
 "nbformat": 4,
 "nbformat_minor": 4
}
