{
 "cells": [
  {
   "cell_type": "markdown",
   "metadata": {},
   "source": [
    "## 91. Decode Ways\n",
    "\n",
    "\n",
    "A message containing letters from A-Z is being encoded to numbers using the following mapping:\n",
    "\n",
    "'A' -> 1\n",
    "'B' -> 2\n",
    "...\n",
    "'Z' -> 26\n",
    "\n",
    "Given a non-empty string containing only digits, determine the total number of ways to decode it.\n",
    "\n",
    "Example 1:\n",
    "\n",
    "Input: \"12\"\n",
    "Output: 2\n",
    "Explanation: It could be decoded as \"AB\" (1 2) or \"L\" (12).\n",
    "\n",
    "121 , exp: \"aba\", \"au\", \"la\"\n",
    "\n",
    "https://leetcode.com/problems/decode-ways/\n",
    "\n",
    "https://leetcode-cn.com/problems/decode-ways/"
   ]
  },
  {
   "cell_type": "code",
   "execution_count": 77,
   "metadata": {},
   "outputs": [],
   "source": [
    "def numDecodings(s: str) -> int:\n",
    "    if not s:\n",
    "        return 0\n",
    "    dp = [0] * (len(s)+1)\n",
    "    # base case\n",
    "    dp[0] = 1    # extra base offset\n",
    "    dp[1] = 1    # one char has one way\n",
    "    # dp[2] =    # tow char has one or two way, 16->two way 1+6,16;  61->one way 6+1\n",
    "    \n",
    "    for i in range(2, len(s)+1):    # i represent the i-th char in s, dp[i], every char after s[0] can have dp[2] condition above \n",
    "        # judge one position has one or two way in his position\n",
    "        # one step, mean s[i-1] self, one way = dp[i-1]\n",
    "        if 0 < int(s[i-1]):\n",
    "            print('i-1', i)\n",
    "            dp[i] += dp[i-1]\n",
    "        # two step, mean s[i-1] self and pre one s[i-2], if the second way exist\n",
    "        if 10 <= int(s[i-2:i]) <= 26:\n",
    "            print('i-2', i)\n",
    "            dp[i] += dp[i-2]\n",
    "\n",
    "    return dp[len(s)]"
   ]
  },
  {
   "cell_type": "code",
   "execution_count": 78,
   "metadata": {},
   "outputs": [
    {
     "name": "stdout",
     "output_type": "stream",
     "text": [
      "i-1 2\n",
      "i-2 2\n"
     ]
    },
    {
     "data": {
      "text/plain": [
       "2"
      ]
     },
     "execution_count": 78,
     "metadata": {},
     "output_type": "execute_result"
    }
   ],
   "source": [
    "numDecodings('12')"
   ]
  },
  {
   "cell_type": "code",
   "execution_count": 79,
   "metadata": {},
   "outputs": [
    {
     "name": "stdout",
     "output_type": "stream",
     "text": [
      "i-1 2\n",
      "i-2 2\n",
      "i-1 3\n",
      "i-2 3\n"
     ]
    },
    {
     "data": {
      "text/plain": [
       "3"
      ]
     },
     "execution_count": 79,
     "metadata": {},
     "output_type": "execute_result"
    }
   ],
   "source": [
    "numDecodings('121')"
   ]
  },
  {
   "cell_type": "code",
   "execution_count": 80,
   "metadata": {},
   "outputs": [
    {
     "name": "stdout",
     "output_type": "stream",
     "text": [
      "i-1 2\n",
      "i-2 2\n",
      "i-1 3\n",
      "i-2 3\n"
     ]
    },
    {
     "data": {
      "text/plain": [
       "3"
      ]
     },
     "execution_count": 80,
     "metadata": {},
     "output_type": "execute_result"
    }
   ],
   "source": [
    "numDecodings('226')"
   ]
  },
  {
   "cell_type": "code",
   "execution_count": 105,
   "metadata": {},
   "outputs": [],
   "source": [
    "# 加大难度，将所有情况的值打印出来，WTF\n",
    "def numDecodings2(s: str) -> int:\n",
    "    if not s:\n",
    "        return 0\n",
    "    dp = [0] * (len(s)+1)\n",
    "    # base case\n",
    "    dp[0] = 1    # extra base offset\n",
    "    dp[1] = 1    # one char has one way\n",
    "    # dp[2] =    # tow char has one or two way, 16->two way 1+6,16;  61->one way 6+1\n",
    "    \n",
    "    import string\n",
    "    _map = {}\n",
    "    for i, v in enumerate(string.ascii_lowercase, 1):\n",
    "        _map[str(i)] = v\n",
    "#     print(_map)\n",
    "    \n",
    "    result = {}\n",
    "    result[0] = []\n",
    "    result[1] = [_map[s[0]]]    # 1 represent the first char in s\n",
    "    \n",
    "    \n",
    "    for i in range(2, len(s)+1):    # i represent the i-th char in s, dp[i], every char after s[0] can have dp[2] condition above \n",
    "        result[i] = []\n",
    "        print('i:', i, s[i-1], _map.get(s[i-1]))\n",
    "        curr_one_char = _map.get(s[i-1])\n",
    "        \n",
    "        # judge one position has one or two way in his position\n",
    "        # one step, mean s[i-1] self, one way = dp[i-1]\n",
    "        if curr_one_char:\n",
    "            print('one', curr_one_char, result[i-1])\n",
    "            for item in result[i-1]:\n",
    "                print('item', item+curr_one_char)\n",
    "                result[i].append(item+curr_one_char)\n",
    "            print('+self', result[i])\n",
    "        # two step, mean s[i-1] self and pre one s[i-2], if the second way exist\n",
    "        least_two_chars = None\n",
    "        if 10 <= int(s[i-2:i]) <= 26:\n",
    "            least_two_chars = _map.get(s[i-2:i])\n",
    "            print('two', least_two_chars)\n",
    "            if not result[i-2]:\n",
    "                result[i].append(least_two_chars)\n",
    "            for item in result[i-2]:\n",
    "                print('item', item+least_two_chars)\n",
    "                result[i].append(item+least_two_chars)\n",
    "            print('+two', result[i])\n",
    "        print('-----i result------', i, result[i])\n",
    "        if not curr_one_char and not least_two_chars:\n",
    "            print('Wrong number!')\n",
    "            return False\n",
    "    print(result, len(result[len(s)]))\n",
    "    return  result[len(s)]"
   ]
  },
  {
   "cell_type": "code",
   "execution_count": 106,
   "metadata": {},
   "outputs": [
    {
     "name": "stdout",
     "output_type": "stream",
     "text": [
      "i: 2 2 b\n",
      "one b ['a']\n",
      "item ab\n",
      "+self ['ab']\n",
      "two l\n",
      "+two ['ab', 'l']\n",
      "-----i result------ 2 ['ab', 'l']\n",
      "i: 3 1 a\n",
      "one a ['ab', 'l']\n",
      "item aba\n",
      "item la\n",
      "+self ['aba', 'la']\n",
      "two u\n",
      "item au\n",
      "+two ['aba', 'la', 'au']\n",
      "-----i result------ 3 ['aba', 'la', 'au']\n",
      "{0: [], 1: ['a'], 2: ['ab', 'l'], 3: ['aba', 'la', 'au']} 3\n"
     ]
    },
    {
     "data": {
      "text/plain": [
       "['aba', 'la', 'au']"
      ]
     },
     "execution_count": 106,
     "metadata": {},
     "output_type": "execute_result"
    }
   ],
   "source": [
    "numDecodings2('121')"
   ]
  },
  {
   "cell_type": "code",
   "execution_count": 107,
   "metadata": {},
   "outputs": [
    {
     "name": "stdout",
     "output_type": "stream",
     "text": [
      "i: 2 2 b\n",
      "one b ['b']\n",
      "item bb\n",
      "+self ['bb']\n",
      "two v\n",
      "+two ['bb', 'v']\n",
      "-----i result------ 2 ['bb', 'v']\n",
      "i: 3 6 f\n",
      "one f ['bb', 'v']\n",
      "item bbf\n",
      "item vf\n",
      "+self ['bbf', 'vf']\n",
      "two z\n",
      "item bz\n",
      "+two ['bbf', 'vf', 'bz']\n",
      "-----i result------ 3 ['bbf', 'vf', 'bz']\n",
      "{0: [], 1: ['b'], 2: ['bb', 'v'], 3: ['bbf', 'vf', 'bz']} 3\n"
     ]
    },
    {
     "data": {
      "text/plain": [
       "['bbf', 'vf', 'bz']"
      ]
     },
     "execution_count": 107,
     "metadata": {},
     "output_type": "execute_result"
    }
   ],
   "source": [
    "numDecodings2('226')"
   ]
  },
  {
   "cell_type": "code",
   "execution_count": 108,
   "metadata": {},
   "outputs": [
    {
     "name": "stdout",
     "output_type": "stream",
     "text": [
      "i: 2 0 None\n",
      "two j\n",
      "+two ['j']\n",
      "-----i result------ 2 ['j']\n",
      "i: 3 0 None\n",
      "-----i result------ 3 []\n",
      "Wrong number!\n"
     ]
    },
    {
     "data": {
      "text/plain": [
       "False"
      ]
     },
     "execution_count": 108,
     "metadata": {},
     "output_type": "execute_result"
    }
   ],
   "source": [
    "numDecodings2('1002')"
   ]
  },
  {
   "cell_type": "code",
   "execution_count": 109,
   "metadata": {},
   "outputs": [],
   "source": []
  },
  {
   "cell_type": "code",
   "execution_count": null,
   "metadata": {},
   "outputs": [],
   "source": []
  }
 ],
 "metadata": {
  "kernelspec": {
   "display_name": "Python 3",
   "language": "python",
   "name": "python3"
  },
  "language_info": {
   "codemirror_mode": {
    "name": "ipython",
    "version": 3
   },
   "file_extension": ".py",
   "mimetype": "text/x-python",
   "name": "python",
   "nbconvert_exporter": "python",
   "pygments_lexer": "ipython3",
   "version": "3.6.4"
  }
 },
 "nbformat": 4,
 "nbformat_minor": 4
}
