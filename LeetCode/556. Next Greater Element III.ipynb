{
 "cells": [
  {
   "cell_type": "markdown",
   "metadata": {},
   "source": [
    "## 556. Next Greater Element III\n",
    "Given a positive 32-bit integer n, you need to find the smallest 32-bit integer which has exactly the same digits existing in the integer n and is greater in value than n. If no such positive 32-bit integer exists, you need to return -1.\n",
    "\n",
    "Example 1:\n",
    "\n",
    "Input: 12\n",
    "Output: 21\n",
    "\n",
    "https://leetcode.com/problems/next-greater-element-iii/\n",
    "\n",
    "同：31. Next Permutation\n",
    "https://leetcode.com/problems/next-permutation/"
   ]
  },
  {
   "cell_type": "code",
   "execution_count": 107,
   "metadata": {},
   "outputs": [],
   "source": [
    "def nextGreaterElement(n: int) -> int:\n",
    "        # starting from right \n",
    "        s = list(str(n))\n",
    "        length = len(s)\n",
    "        swaped_index = -1\n",
    "        biggest_from_right = n % 10\n",
    "        print(biggest_from_right)\n",
    "        for index in range(length-2, -1, -1):\n",
    "            print(index, s[index], type(int(s[index])), biggest_from_right)\n",
    "            if int(s[index]) >= biggest_from_right:\n",
    "                biggest_from_right = int(s[index])\n",
    "            else:\n",
    "                swaped_index = index    # 找到从右开始打破升序的那个位置的索引，记住！index\n",
    "                print('change', swaped_index)\n",
    "                break\n",
    "        print('swaped_index', swaped_index)\n",
    "        if swaped_index == -1:   # 整个数字倒叙，已经最大\n",
    "            print('nonon')\n",
    "            return -1\n",
    "        for index in range(length-1, swaped_index-1, -1):\n",
    "            print('index', index, s[index])\n",
    "            if s[index] > s[swaped_index]:   # \n",
    "                s[index], s[swaped_index] = s[swaped_index], s[index]   # 交换打破升序的索引index，和它右边比它大的最近的一个数\n",
    "                # 将index后的数正序排列\n",
    "                print(s[swaped_index+1:],sorted(s[swaped_index+1:]))\n",
    "                result = int(''.join(s[:swaped_index+1] + s[:swaped_index:-1]))   # sorted(s[swaped_index+1:])\n",
    "                return result if result<=((1<<31)-1) else -1\n",
    "        return -1\n",
    "        "
   ]
  },
  {
   "cell_type": "code",
   "execution_count": 108,
   "metadata": {},
   "outputs": [
    {
     "name": "stdout",
     "output_type": "stream",
     "text": [
      "9\n",
      "8 9 <class 'int'> 9\n",
      "7 9 <class 'int'> 9\n",
      "6 9 <class 'int'> 9\n",
      "5 9 <class 'int'> 9\n",
      "4 9 <class 'int'> 9\n",
      "3 9 <class 'int'> 9\n",
      "2 9 <class 'int'> 9\n",
      "1 9 <class 'int'> 9\n",
      "0 1 <class 'int'> 9\n",
      "change 0\n",
      "swaped_index 0\n",
      "index 9 9\n",
      "['9', '9', '9', '9', '9', '9', '9', '9', '1'] ['1', '9', '9', '9', '9', '9', '9', '9', '9']\n"
     ]
    },
    {
     "data": {
      "text/plain": [
       "-1"
      ]
     },
     "execution_count": 108,
     "metadata": {},
     "output_type": "execute_result"
    }
   ],
   "source": [
    "nextGreaterElement(1999999999)"
   ]
  },
  {
   "cell_type": "code",
   "execution_count": 109,
   "metadata": {},
   "outputs": [
    {
     "name": "stdout",
     "output_type": "stream",
     "text": [
      "1\n",
      "1 2 <class 'int'> 1\n",
      "0 1 <class 'int'> 2\n",
      "change 0\n",
      "swaped_index 0\n",
      "index 2 1\n",
      "index 1 2\n",
      "['1', '1'] ['1', '1']\n"
     ]
    },
    {
     "data": {
      "text/plain": [
       "211"
      ]
     },
     "execution_count": 109,
     "metadata": {},
     "output_type": "execute_result"
    }
   ],
   "source": [
    "nextGreaterElement(121)"
   ]
  },
  {
   "cell_type": "code",
   "execution_count": 110,
   "metadata": {},
   "outputs": [
    {
     "name": "stdout",
     "output_type": "stream",
     "text": [
      "1\n",
      "0 1 <class 'int'> 1\n",
      "swaped_index -1\n",
      "nonon\n"
     ]
    },
    {
     "data": {
      "text/plain": [
       "-1"
      ]
     },
     "execution_count": 110,
     "metadata": {},
     "output_type": "execute_result"
    }
   ],
   "source": [
    "nextGreaterElement(11)"
   ]
  },
  {
   "cell_type": "code",
   "execution_count": 111,
   "metadata": {},
   "outputs": [
    {
     "name": "stdout",
     "output_type": "stream",
     "text": [
      "3\n",
      "6 3 <class 'int'> 3\n",
      "5 3 <class 'int'> 3\n",
      "4 2 <class 'int'> 3\n",
      "change 4\n",
      "swaped_index 4\n",
      "index 7 3\n",
      "['3', '3', '2'] ['2', '3', '3']\n"
     ]
    },
    {
     "data": {
      "text/plain": [
       "12223233"
      ]
     },
     "execution_count": 111,
     "metadata": {},
     "output_type": "execute_result"
    }
   ],
   "source": [
    "nextGreaterElement(12222333)"
   ]
  },
  {
   "cell_type": "code",
   "execution_count": 28,
   "metadata": {},
   "outputs": [
    {
     "data": {
      "text/plain": [
       "[9, 8]"
      ]
     },
     "execution_count": 28,
     "metadata": {},
     "output_type": "execute_result"
    }
   ],
   "source": [
    "list(range(9, 7, -1))"
   ]
  },
  {
   "cell_type": "code",
   "execution_count": 30,
   "metadata": {},
   "outputs": [],
   "source": [
    "nextGreaterElement(12)"
   ]
  },
  {
   "cell_type": "code",
   "execution_count": 51,
   "metadata": {},
   "outputs": [
    {
     "data": {
      "text/plain": [
       "['1', '2', '3']"
      ]
     },
     "execution_count": 51,
     "metadata": {},
     "output_type": "execute_result"
    }
   ],
   "source": [
    "list(str(123))"
   ]
  },
  {
   "cell_type": "code",
   "execution_count": null,
   "metadata": {},
   "outputs": [],
   "source": [
    "## 用指针！！！"
   ]
  }
 ],
 "metadata": {
  "kernelspec": {
   "display_name": "Python 3",
   "language": "python",
   "name": "python3"
  },
  "language_info": {
   "codemirror_mode": {
    "name": "ipython",
    "version": 3
   },
   "file_extension": ".py",
   "mimetype": "text/x-python",
   "name": "python",
   "nbconvert_exporter": "python",
   "pygments_lexer": "ipython3",
   "version": "3.6.4"
  }
 },
 "nbformat": 4,
 "nbformat_minor": 4
}
