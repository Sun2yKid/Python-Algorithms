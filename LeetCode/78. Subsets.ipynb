{
 "cells": [
  {
   "cell_type": "markdown",
   "metadata": {},
   "source": [
    "78. Subsets\n",
    "https://leetcode.com/problems/subsets/\n",
    "\n",
    "Given a set of distinct integers, nums, return all possible subsets (the power set).\n",
    "\n",
    "Note: The solution set must not contain duplicate subsets."
   ]
  },
  {
   "cell_type": "code",
   "execution_count": 10,
   "metadata": {},
   "outputs": [],
   "source": [
    "def subsets(nums):\n",
    "    result = [[]]\n",
    "    for item in nums:\n",
    "        print(item)\n",
    "        tem = []\n",
    "        for r in result:\n",
    "            tem.append(r + [item])\n",
    "        result.extend(tem)\n",
    "    return result"
   ]
  },
  {
   "cell_type": "code",
   "execution_count": 11,
   "metadata": {},
   "outputs": [
    {
     "name": "stdout",
     "output_type": "stream",
     "text": [
      "1\n",
      "r []\n",
      "[[1]]\n",
      "[[1]]\n",
      "2\n",
      "r []\n",
      "[[2]]\n",
      "r [1]\n",
      "[[2], [1, 2]]\n",
      "[[2], [1, 2]]\n",
      "3\n",
      "r []\n",
      "[[3]]\n",
      "r [1]\n",
      "[[3], [1, 3]]\n",
      "r [2]\n",
      "[[3], [1, 3], [2, 3]]\n",
      "r [1, 2]\n",
      "[[3], [1, 3], [2, 3], [1, 2, 3]]\n",
      "[[3], [1, 3], [2, 3], [1, 2, 3]]\n"
     ]
    },
    {
     "data": {
      "text/plain": [
       "[[], [1], [2], [1, 2], [3], [1, 3], [2, 3], [1, 2, 3]]"
      ]
     },
     "execution_count": 11,
     "metadata": {},
     "output_type": "execute_result"
    }
   ],
   "source": [
    "n = [1, 2, 3]\n",
    "subsets(n)"
   ]
  },
  {
   "cell_type": "code",
   "execution_count": null,
   "metadata": {},
   "outputs": [],
   "source": []
  }
 ],
 "metadata": {
  "kernelspec": {
   "display_name": "Python 3",
   "language": "python",
   "name": "python3"
  },
  "language_info": {
   "codemirror_mode": {
    "name": "ipython",
    "version": 3
   },
   "file_extension": ".py",
   "mimetype": "text/x-python",
   "name": "python",
   "nbconvert_exporter": "python",
   "pygments_lexer": "ipython3",
   "version": "3.6.4"
  }
 },
 "nbformat": 4,
 "nbformat_minor": 4
}
