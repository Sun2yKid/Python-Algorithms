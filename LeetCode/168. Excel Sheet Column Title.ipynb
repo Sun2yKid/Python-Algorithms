{
 "cells": [
  {
   "cell_type": "markdown",
   "metadata": {},
   "source": [
    "168. Excel Sheet Column Title https://leetcode.com/problems/excel-sheet-column-title/"
   ]
  },
  {
   "cell_type": "code",
   "execution_count": 20,
   "metadata": {},
   "outputs": [
    {
     "name": "stdout",
     "output_type": "stream",
     "text": [
      "0 0 A\n"
     ]
    },
    {
     "data": {
      "text/plain": [
       "'A'"
      ]
     },
     "execution_count": 20,
     "metadata": {},
     "output_type": "execute_result"
    }
   ],
   "source": [
    "def convert(number):\n",
    "    import string\n",
    "    uppercase = string.ascii_uppercase\n",
    "    chars = {}\n",
    "    for i, v in zip(range(len(uppercase)), uppercase):\n",
    "        chars[i] = v\n",
    "    result = ''\n",
    "    while number > 0:\n",
    "        number -= 1\n",
    "        n = number % 26\n",
    "        number = number // 26\n",
    "        result = chars[n] + result \n",
    "        print(number, n, result)\n",
    "    return result\n",
    "        \n",
    "convert(1) # A"
   ]
  },
  {
   "cell_type": "code",
   "execution_count": 21,
   "metadata": {},
   "outputs": [
    {
     "name": "stdout",
     "output_type": "stream",
     "text": [
      "0 25 Z\n",
      "1 0 A\n",
      "0 0 AA\n",
      "1 24 Y\n",
      "0 0 AY\n",
      "1 25 Z\n",
      "0 0 AZ\n"
     ]
    },
    {
     "data": {
      "text/plain": [
       "('Z', 'AA', 'AY', 'AZ')"
      ]
     },
     "execution_count": 21,
     "metadata": {},
     "output_type": "execute_result"
    }
   ],
   "source": [
    "convert(26), convert(27), convert(51), convert(52)"
   ]
  },
  {
   "cell_type": "markdown",
   "metadata": {},
   "source": [
    "## 思路\n",
    "\n",
    "跟进制一样，10进制(0~9), 26进制(A~Z)"
   ]
  }
 ],
 "metadata": {
  "kernelspec": {
   "display_name": "Python 3",
   "language": "python",
   "name": "python3"
  },
  "language_info": {
   "codemirror_mode": {
    "name": "ipython",
    "version": 3
   },
   "file_extension": ".py",
   "mimetype": "text/x-python",
   "name": "python",
   "nbconvert_exporter": "python",
   "pygments_lexer": "ipython3",
   "version": "3.6.4"
  }
 },
 "nbformat": 4,
 "nbformat_minor": 4
}
