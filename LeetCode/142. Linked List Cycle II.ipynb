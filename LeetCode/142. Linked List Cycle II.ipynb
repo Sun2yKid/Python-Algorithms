{
 "cells": [
  {
   "cell_type": "markdown",
   "metadata": {},
   "source": [
    "142. Linked List Cycle II https://leetcode.com/problems/linked-list-cycle-ii/\n",
    "Given a linked list, return the node where the cycle begins. If there is no cycle, return null.\n",
    "\n",
    "To represent a cycle in the given linked list, we use an integer pos which represents the position (0-indexed) in the linked list where tail connects to. If pos is -1, then there is no cycle in the linked list.\n",
    "\n",
    "Note: Do not modify the linked list."
   ]
  },
  {
   "cell_type": "code",
   "execution_count": 2,
   "metadata": {},
   "outputs": [],
   "source": [
    "class ListNode:\n",
    "    def __init__(self, val):\n",
    "        self.val = val\n",
    "        self.next = None"
   ]
  },
  {
   "cell_type": "code",
   "execution_count": 3,
   "metadata": {},
   "outputs": [],
   "source": [
    "def detectCycle(self, head: ListNode) -> ListNode:\n",
    "    slow, fast = head, head\n",
    "    while fast and fast.next:\n",
    "        slow = slow.next\n",
    "        fast = fast.next.next\n",
    "        if fast == slow:\n",
    "            # True\n",
    "            break\n",
    "    else:\n",
    "        return None\n",
    "    # D = (n-1)(s1+s2)+ s2  # head到入环点的距离，\n",
    "    # s1为入环点到首次相遇点，\n",
    "    # s2为首次相遇点到入环点\n",
    "    while head != fast:\n",
    "        head = head.next\n",
    "        fast = fast.next\n",
    "    return head"
   ]
  },
  {
   "cell_type": "markdown",
   "metadata": {},
   "source": [
    "## 思路：\n",
    "* 慢指针每次走1步，所走的距离是D+S1\n",
    "* 快指针每次走2步，夺走了n(n>=n)整圈，所走的距离是D+S1+n(S1+S2)\n",
    "* 快指针是慢指针速度2倍\n",
    "\n",
    "> 2(D+S1) == D+S1+n(S1+S2)\n",
    "\n",
    "> D = (n-1)S1 + S2 = (n-1)(S1+S2) + S2"
   ]
  },
  {
   "cell_type": "code",
   "execution_count": null,
   "metadata": {},
   "outputs": [],
   "source": []
  }
 ],
 "metadata": {
  "kernelspec": {
   "display_name": "Python 3",
   "language": "python",
   "name": "python3"
  },
  "language_info": {
   "codemirror_mode": {
    "name": "ipython",
    "version": 3
   },
   "file_extension": ".py",
   "mimetype": "text/x-python",
   "name": "python",
   "nbconvert_exporter": "python",
   "pygments_lexer": "ipython3",
   "version": "3.6.4"
  }
 },
 "nbformat": 4,
 "nbformat_minor": 4
}
