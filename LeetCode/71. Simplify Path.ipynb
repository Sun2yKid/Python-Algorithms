{
 "cells": [
  {
   "cell_type": "markdown",
   "metadata": {},
   "source": [
    "71. Simplify Path\n",
    "https://leetcode.com/problems/simplify-path/\n",
    "\n",
    "Given an absolute path for a file (Unix-style), simplify it. Or in other words, convert it to the canonical path.\n",
    "\n",
    "In a UNIX-style file system, a period . refers to the current directory. Furthermore, a double period .. moves the directory up a level.\n",
    "\n",
    "Note that the returned canonical path must always begin with a slash /, and there must be only a single slash / between two directory names. The last directory name (if it exists) must not end with a trailing /. Also, the canonical path must be the shortest string representing the absolute path."
   ]
  },
  {
   "cell_type": "code",
   "execution_count": 2,
   "metadata": {},
   "outputs": [],
   "source": [
    "def simplify_path(path):\n",
    "    result = []\n",
    "    for item in path.split('/'):\n",
    "        if item in ['.', '']:\n",
    "            continue\n",
    "        elif item == '..':\n",
    "            if result:     # or index error\n",
    "                result.pop()\n",
    "            continue       # 注意，根目录使用'..'依然是根目录\n",
    "        result.append(item)\n",
    "    return '/' + '/'.join(result)        "
   ]
  },
  {
   "cell_type": "code",
   "execution_count": 3,
   "metadata": {},
   "outputs": [
    {
     "data": {
      "text/plain": [
       "'/c'"
      ]
     },
     "execution_count": 3,
     "metadata": {},
     "output_type": "execute_result"
    }
   ],
   "source": [
    "p = \"/home/\"\n",
    "p = \"/../\"\n",
    "p = \"/home//foo/\"\n",
    "p = \"/a/./b/../../c/\"\n",
    "p = \"/a/../../b/../c//.//\"\n",
    "#p = \"/a//b////c/d//././/..\"\n",
    "simplify_path(p)"
   ]
  },
  {
   "cell_type": "markdown",
   "metadata": {},
   "source": [
    "## 思路：栈的应用"
   ]
  }
 ],
 "metadata": {
  "kernelspec": {
   "display_name": "Python 3",
   "language": "python",
   "name": "python3"
  },
  "language_info": {
   "codemirror_mode": {
    "name": "ipython",
    "version": 3
   },
   "file_extension": ".py",
   "mimetype": "text/x-python",
   "name": "python",
   "nbconvert_exporter": "python",
   "pygments_lexer": "ipython3",
   "version": "3.6.4"
  }
 },
 "nbformat": 4,
 "nbformat_minor": 4
}
