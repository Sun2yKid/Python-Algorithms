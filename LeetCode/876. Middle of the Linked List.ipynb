{
 "cells": [
  {
   "cell_type": "markdown",
   "metadata": {},
   "source": [
    "## Middle of the Linked List\n",
    "\n",
    "Given a non-empty, singly linked list with head node head, return a middle node of linked list.\n",
    "\n",
    "If there are two middle nodes, return the second middle node.\n",
    "\n",
    " \n",
    "\n",
    "Example 1:\n",
    "\n",
    "Input: [1,2,3,4,5]\n",
    "Output: Node 3 from this list (Serialization: [3,4,5])\n",
    "The returned node has value 3.  (The judge's serialization of this node is [3,4,5]).\n",
    "Note that we returned a ListNode object ans, such that:\n",
    "ans.val = 3, ans.next.val = 4, ans.next.next.val = 5, and ans.next.next.next = NULL.\n",
    "Example 2:\n",
    "\n",
    "Input: [1,2,3,4,5,6]\n",
    "Output: Node 4 from this list (Serialization: [4,5,6])\n",
    "Since the list has two middle nodes with values 3 and 4, we return the second one.\n",
    " \n",
    "\n",
    "Note:\n",
    "\n",
    "The number of nodes in the given list will be between 1 and 100."
   ]
  },
  {
   "cell_type": "code",
   "execution_count": 2,
   "metadata": {},
   "outputs": [],
   "source": [
    "# Definition for singly-linked list.\n",
    "class ListNode:\n",
    "    def __init__(self, x):\n",
    "        self.val = x\n",
    "        self.next = None\n",
    "        \n",
    "def middleNode(self, head: ListNode) -> ListNode:\n",
    "    fast, slow = head, head\n",
    "    while fast.next and fast.next.next:\n",
    "        slow = slow.next\n",
    "        fast = fast.next.next\n",
    "    if fast.next:\n",
    "        slow = slow.next\n",
    "    return slow"
   ]
  },
  {
   "cell_type": "code",
   "execution_count": null,
   "metadata": {},
   "outputs": [],
   "source": []
  }
 ],
 "metadata": {
  "kernelspec": {
   "display_name": "Python 3",
   "language": "python",
   "name": "python3"
  },
  "language_info": {
   "codemirror_mode": {
    "name": "ipython",
    "version": 3
   },
   "file_extension": ".py",
   "mimetype": "text/x-python",
   "name": "python",
   "nbconvert_exporter": "python",
   "pygments_lexer": "ipython3",
   "version": "3.7.7"
  }
 },
 "nbformat": 4,
 "nbformat_minor": 4
}
