{
 "cells": [
  {
   "cell_type": "markdown",
   "metadata": {},
   "source": [
    "* 将域名转换为IP的协议是什么？是基于TCP还是UDP？\n",
    "\n",
    "DNS同时占用TCP和UDP的53号端口。\n",
    "因为查询很频繁，使用UDP报文给服务器带来的负担小，所以查询的时候使用的是UDP报文。\n",
    "主副DNS进行区域传送的时候，用TCP，因为要保证数据的准确性。"
   ]
  },
  {
   "cell_type": "markdown",
   "metadata": {},
   "source": [
    "* "
   ]
  }
 ],
 "metadata": {
  "kernelspec": {
   "display_name": "Python 3",
   "language": "python",
   "name": "python3"
  },
  "language_info": {
   "codemirror_mode": {
    "name": "ipython",
    "version": 3
   },
   "file_extension": ".py",
   "mimetype": "text/x-python",
   "name": "python",
   "nbconvert_exporter": "python",
   "pygments_lexer": "ipython3",
   "version": "3.6.4"
  }
 },
 "nbformat": 4,
 "nbformat_minor": 4
}
